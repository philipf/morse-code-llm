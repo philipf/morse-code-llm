{
 "cells": [
  {
   "cell_type": "markdown",
   "id": "89fc7924",
   "metadata": {},
   "source": [
    "# Build a simple data set\n",
    "This notebook downloads Taylor Swift lyrics from Hugging Face and builds a simple dataset for training a language model."
   ]
  },
  {
   "cell_type": "code",
   "execution_count": 59,
   "id": "4b6147ae",
   "metadata": {},
   "outputs": [
    {
     "data": {
      "application/vnd.jupyter.widget-view+json": {
       "model_id": "2b3599cecdff4dbc9953713bd6a1022b",
       "version_major": 2,
       "version_minor": 0
      },
      "text/plain": [
       "README.md:   0%|          | 0.00/528 [00:00<?, ?B/s]"
      ]
     },
     "metadata": {},
     "output_type": "display_data"
    },
    {
     "data": {
      "application/vnd.jupyter.widget-view+json": {
       "model_id": "761ef4a087894742997f74c02e55cfe4",
       "version_major": 2,
       "version_minor": 0
      },
      "text/plain": [
       "(…)-00000-of-00001-630edd713726adb8.parquet:   0%|          | 0.00/44.9M [00:00<?, ?B/s]"
      ]
     },
     "metadata": {},
     "output_type": "display_data"
    },
    {
     "data": {
      "application/vnd.jupyter.widget-view+json": {
       "model_id": "3361c4b638ab458b9e0965bdf56dd6f4",
       "version_major": 2,
       "version_minor": 0
      },
      "text/plain": [
       "Generating train split:   0%|          | 0/670204 [00:00<?, ? examples/s]"
      ]
     },
     "metadata": {},
     "output_type": "display_data"
    }
   ],
   "source": [
    "from datasets import load_dataset\n",
    "ds = load_dataset(\"skeskinen/books3_basic_sentenses_paraphrased\", split=\"train\")"
   ]
  },
  {
   "cell_type": "code",
   "execution_count": 60,
   "id": "6819c69a",
   "metadata": {},
   "outputs": [
    {
     "data": {
      "text/html": [
       "<div>\n",
       "<style scoped>\n",
       "    .dataframe tbody tr th:only-of-type {\n",
       "        vertical-align: middle;\n",
       "    }\n",
       "\n",
       "    .dataframe tbody tr th {\n",
       "        vertical-align: top;\n",
       "    }\n",
       "\n",
       "    .dataframe thead th {\n",
       "        text-align: right;\n",
       "    }\n",
       "</style>\n",
       "<table border=\"1\" class=\"dataframe\">\n",
       "  <thead>\n",
       "    <tr style=\"text-align: right;\">\n",
       "      <th></th>\n",
       "      <th>text</th>\n",
       "      <th>book</th>\n",
       "      <th>pos</th>\n",
       "      <th>smog_index</th>\n",
       "      <th>paraphrase</th>\n",
       "    </tr>\n",
       "  </thead>\n",
       "  <tbody>\n",
       "    <tr>\n",
       "      <th>0</th>\n",
       "      <td>This title was originally cataloged by the Lib...</td>\n",
       "      <td>Are You My Mother_ - P.D. Eastman</td>\n",
       "      <td>0.014706</td>\n",
       "      <td>4.8</td>\n",
       "      <td>The title was cataloged by the Library of Cong...</td>\n",
       "    </tr>\n",
       "    <tr>\n",
       "      <th>1</th>\n",
       "      <td>The egg jumped.</td>\n",
       "      <td>Are You My Mother_ - P.D. Eastman</td>\n",
       "      <td>0.113971</td>\n",
       "      <td>4.8</td>\n",
       "      <td>The egg flew into the air.</td>\n",
       "    </tr>\n",
       "    <tr>\n",
       "      <th>2</th>\n",
       "      <td>So away she went.</td>\n",
       "      <td>Are You My Mother_ - P.D. Eastman</td>\n",
       "      <td>0.158088</td>\n",
       "      <td>4.8</td>\n",
       "      <td>She went away.</td>\n",
       "    </tr>\n",
       "    <tr>\n",
       "      <th>3</th>\n",
       "      <td>\"Where is my mother?\"</td>\n",
       "      <td>Are You My Mother_ - P.D. Eastman</td>\n",
       "      <td>0.191176</td>\n",
       "      <td>4.8</td>\n",
       "      <td>Where is my mother?</td>\n",
       "    </tr>\n",
       "    <tr>\n",
       "      <th>4</th>\n",
       "      <td>He looked for her.</td>\n",
       "      <td>Are You My Mother_ - P.D. Eastman</td>\n",
       "      <td>0.202206</td>\n",
       "      <td>4.8</td>\n",
       "      <td>He was looking for her.</td>\n",
       "    </tr>\n",
       "    <tr>\n",
       "      <th>...</th>\n",
       "      <td>...</td>\n",
       "      <td>...</td>\n",
       "      <td>...</td>\n",
       "      <td>...</td>\n",
       "      <td>...</td>\n",
       "    </tr>\n",
       "    <tr>\n",
       "      <th>670199</th>\n",
       "      <td>He seemed to be in his early twenties.</td>\n",
       "      <td>A Gathering of Old Men</td>\n",
       "      <td>0.280271</td>\n",
       "      <td>5.6</td>\n",
       "      <td>He was in his twenties.</td>\n",
       "    </tr>\n",
       "    <tr>\n",
       "      <th>670200</th>\n",
       "      <td>He was about five eight, and weighed round a h...</td>\n",
       "      <td>A Gathering of Old Men</td>\n",
       "      <td>0.280271</td>\n",
       "      <td>5.6</td>\n",
       "      <td>He was around 100 and forty pounds.</td>\n",
       "    </tr>\n",
       "    <tr>\n",
       "      <th>670201</th>\n",
       "      <td>Even from this distance you could see he was s...</td>\n",
       "      <td>A Gathering of Old Men</td>\n",
       "      <td>0.280271</td>\n",
       "      <td>5.6</td>\n",
       "      <td>He was scared even from this distance.</td>\n",
       "    </tr>\n",
       "    <tr>\n",
       "      <th>670202</th>\n",
       "      <td>He was unarmed, and he reached back into the c...</td>\n",
       "      <td>A Gathering of Old Men</td>\n",
       "      <td>0.280271</td>\n",
       "      <td>5.6</td>\n",
       "      <td>He reached into the car for a gun and was not ...</td>\n",
       "    </tr>\n",
       "    <tr>\n",
       "      <th>670203</th>\n",
       "      <td>Mapes spoke to him from over his shoulder, and...</td>\n",
       "      <td>A Gathering of Old Men</td>\n",
       "      <td>0.280271</td>\n",
       "      <td>5.6</td>\n",
       "      <td>Mapes put the gun back in his hand after talki...</td>\n",
       "    </tr>\n",
       "  </tbody>\n",
       "</table>\n",
       "<p>670204 rows × 5 columns</p>\n",
       "</div>"
      ],
      "text/plain": [
       "                                                     text  \\\n",
       "0       This title was originally cataloged by the Lib...   \n",
       "1                                         The egg jumped.   \n",
       "2                                       So away she went.   \n",
       "3                                 \"Where is my mother?\"     \n",
       "4                                      He looked for her.   \n",
       "...                                                   ...   \n",
       "670199             He seemed to be in his early twenties.   \n",
       "670200  He was about five eight, and weighed round a h...   \n",
       "670201  Even from this distance you could see he was s...   \n",
       "670202  He was unarmed, and he reached back into the c...   \n",
       "670203  Mapes spoke to him from over his shoulder, and...   \n",
       "\n",
       "                                     book       pos  smog_index  \\\n",
       "0       Are You My Mother_ - P.D. Eastman  0.014706         4.8   \n",
       "1       Are You My Mother_ - P.D. Eastman  0.113971         4.8   \n",
       "2       Are You My Mother_ - P.D. Eastman  0.158088         4.8   \n",
       "3       Are You My Mother_ - P.D. Eastman  0.191176         4.8   \n",
       "4       Are You My Mother_ - P.D. Eastman  0.202206         4.8   \n",
       "...                                   ...       ...         ...   \n",
       "670199             A Gathering of Old Men  0.280271         5.6   \n",
       "670200             A Gathering of Old Men  0.280271         5.6   \n",
       "670201             A Gathering of Old Men  0.280271         5.6   \n",
       "670202             A Gathering of Old Men  0.280271         5.6   \n",
       "670203             A Gathering of Old Men  0.280271         5.6   \n",
       "\n",
       "                                               paraphrase  \n",
       "0       The title was cataloged by the Library of Cong...  \n",
       "1                              The egg flew into the air.  \n",
       "2                                          She went away.  \n",
       "3                                     Where is my mother?  \n",
       "4                                 He was looking for her.  \n",
       "...                                                   ...  \n",
       "670199                            He was in his twenties.  \n",
       "670200                He was around 100 and forty pounds.  \n",
       "670201             He was scared even from this distance.  \n",
       "670202  He reached into the car for a gun and was not ...  \n",
       "670203  Mapes put the gun back in his hand after talki...  \n",
       "\n",
       "[670204 rows x 5 columns]"
      ]
     },
     "execution_count": 60,
     "metadata": {},
     "output_type": "execute_result"
    }
   ],
   "source": [
    "df = ds.to_pandas()\n",
    "df"
   ]
  },
  {
   "cell_type": "code",
   "execution_count": 61,
   "id": "4b74be9d",
   "metadata": {},
   "outputs": [],
   "source": [
    "import unicodedata\n",
    "\n",
    "def normalize_text(text):\n",
    "    # Normalize to NFKD form which separates characters from their diacritics\n",
    "    normalized = unicodedata.normalize('NFKD', text)\n",
    "    # Filter out combining characters (accents, etc.)\n",
    "    ascii_text = ''.join([c for c in normalized if not unicodedata.combining(c)])\n",
    "    return ascii_text"
   ]
  },
  {
   "cell_type": "code",
   "execution_count": 62,
   "id": "8d80e0fc",
   "metadata": {},
   "outputs": [],
   "source": [
    "import re\n",
    "re_split = re.compile(r'[\\n,;]')"
   ]
  },
  {
   "cell_type": "code",
   "execution_count": 83,
   "id": "72d96c5a",
   "metadata": {},
   "outputs": [],
   "source": [
    "from encode import encode_to_morse\n",
    "\n",
    "def apply_encoding(batch):\n",
    "    lines = []\n",
    "    morse = []\n",
    "\n",
    "    for text in batch[\"paraphrase\"]:\n",
    "        lines.append(text)\n",
    "        morse.append(encode_to_morse(normalize_text(text), skip_unknown=True))\n",
    "\n",
    "    return {\n",
    "        \"line\": lines,\n",
    "        \"morse\": morse\n",
    "    }\n"
   ]
  },
  {
   "cell_type": "code",
   "execution_count": 84,
   "id": "cd33f015",
   "metadata": {},
   "outputs": [
    {
     "data": {
      "application/vnd.jupyter.widget-view+json": {
       "model_id": "71e972f803e348668549b1f764a324c2",
       "version_major": 2,
       "version_minor": 0
      },
      "text/plain": [
       "Map (num_proc=8):   0%|          | 0/670204 [00:00<?, ? examples/s]"
      ]
     },
     "metadata": {},
     "output_type": "display_data"
    },
    {
     "data": {
      "text/html": [
       "<div>\n",
       "<style scoped>\n",
       "    .dataframe tbody tr th:only-of-type {\n",
       "        vertical-align: middle;\n",
       "    }\n",
       "\n",
       "    .dataframe tbody tr th {\n",
       "        vertical-align: top;\n",
       "    }\n",
       "\n",
       "    .dataframe thead th {\n",
       "        text-align: right;\n",
       "    }\n",
       "</style>\n",
       "<table border=\"1\" class=\"dataframe\">\n",
       "  <thead>\n",
       "    <tr style=\"text-align: right;\">\n",
       "      <th></th>\n",
       "      <th>line</th>\n",
       "      <th>morse</th>\n",
       "    </tr>\n",
       "  </thead>\n",
       "  <tbody>\n",
       "    <tr>\n",
       "      <th>0</th>\n",
       "      <td>The title was cataloged by the Library of Cong...</td>\n",
       "      <td>- .... . / - .. - .-.. . / .-- .- ... / -.-. ....</td>\n",
       "    </tr>\n",
       "    <tr>\n",
       "      <th>1</th>\n",
       "      <td>The egg flew into the air.</td>\n",
       "      <td>- .... . / . --. --. / ..-. .-.. . .-- / .. -....</td>\n",
       "    </tr>\n",
       "    <tr>\n",
       "      <th>2</th>\n",
       "      <td>She went away.</td>\n",
       "      <td>... .... . / .-- . -. - / .- .-- .- -.-- .-.-.-</td>\n",
       "    </tr>\n",
       "    <tr>\n",
       "      <th>3</th>\n",
       "      <td>Where is my mother?</td>\n",
       "      <td>.-- .... . .-. . / .. ... / -- -.-- / -- --- -...</td>\n",
       "    </tr>\n",
       "    <tr>\n",
       "      <th>4</th>\n",
       "      <td>He was looking for her.</td>\n",
       "      <td>.... . / .-- .- ... / .-.. --- --- -.- .. -. -...</td>\n",
       "    </tr>\n",
       "    <tr>\n",
       "      <th>...</th>\n",
       "      <td>...</td>\n",
       "      <td>...</td>\n",
       "    </tr>\n",
       "    <tr>\n",
       "      <th>670199</th>\n",
       "      <td>He was in his twenties.</td>\n",
       "      <td>.... . / .-- .- ... / .. -. / .... .. ... / - ...</td>\n",
       "    </tr>\n",
       "    <tr>\n",
       "      <th>670200</th>\n",
       "      <td>He was around 100 and forty pounds.</td>\n",
       "      <td>.... . / .-- .- ... / .- .-. --- ..- -. -.. / ...</td>\n",
       "    </tr>\n",
       "    <tr>\n",
       "      <th>670201</th>\n",
       "      <td>He was scared even from this distance.</td>\n",
       "      <td>.... . / .-- .- ... / ... -.-. .- .-. . -.. / ...</td>\n",
       "    </tr>\n",
       "    <tr>\n",
       "      <th>670202</th>\n",
       "      <td>He reached into the car for a gun and was not ...</td>\n",
       "      <td>.... . / .-. . .- -.-. .... . -.. / .. -. - --...</td>\n",
       "    </tr>\n",
       "    <tr>\n",
       "      <th>670203</th>\n",
       "      <td>Mapes put the gun back in his hand after talki...</td>\n",
       "      <td>-- .- .--. . ... / .--. ..- - / - .... . / --....</td>\n",
       "    </tr>\n",
       "  </tbody>\n",
       "</table>\n",
       "<p>670204 rows × 2 columns</p>\n",
       "</div>"
      ],
      "text/plain": [
       "                                                     line  \\\n",
       "0       The title was cataloged by the Library of Cong...   \n",
       "1                              The egg flew into the air.   \n",
       "2                                          She went away.   \n",
       "3                                     Where is my mother?   \n",
       "4                                 He was looking for her.   \n",
       "...                                                   ...   \n",
       "670199                            He was in his twenties.   \n",
       "670200                He was around 100 and forty pounds.   \n",
       "670201             He was scared even from this distance.   \n",
       "670202  He reached into the car for a gun and was not ...   \n",
       "670203  Mapes put the gun back in his hand after talki...   \n",
       "\n",
       "                                                    morse  \n",
       "0       - .... . / - .. - .-.. . / .-- .- ... / -.-. ....  \n",
       "1       - .... . / . --. --. / ..-. .-.. . .-- / .. -....  \n",
       "2         ... .... . / .-- . -. - / .- .-- .- -.-- .-.-.-  \n",
       "3       .-- .... . .-. . / .. ... / -- -.-- / -- --- -...  \n",
       "4       .... . / .-- .- ... / .-.. --- --- -.- .. -. -...  \n",
       "...                                                   ...  \n",
       "670199  .... . / .-- .- ... / .. -. / .... .. ... / - ...  \n",
       "670200  .... . / .-- .- ... / .- .-. --- ..- -. -.. / ...  \n",
       "670201  .... . / .-- .- ... / ... -.-. .- .-. . -.. / ...  \n",
       "670202  .... . / .-. . .- -.-. .... . -.. / .. -. - --...  \n",
       "670203  -- .- .--. . ... / .--. ..- - / - .... . / --....  \n",
       "\n",
       "[670204 rows x 2 columns]"
      ]
     },
     "execution_count": 84,
     "metadata": {},
     "output_type": "execute_result"
    }
   ],
   "source": [
    "new_ds = ds.map(apply_encoding, batched=True, remove_columns=[\"paraphrase\", \"text\", \"book\", \"pos\", \"smog_index\"], num_proc=8)\n",
    "new_ds.to_pandas()"
   ]
  },
  {
   "cell_type": "code",
   "execution_count": 85,
   "id": "54f4e371",
   "metadata": {},
   "outputs": [
    {
     "data": {
      "text/html": [
       "<div>\n",
       "<style scoped>\n",
       "    .dataframe tbody tr th:only-of-type {\n",
       "        vertical-align: middle;\n",
       "    }\n",
       "\n",
       "    .dataframe tbody tr th {\n",
       "        vertical-align: top;\n",
       "    }\n",
       "\n",
       "    .dataframe thead th {\n",
       "        text-align: right;\n",
       "    }\n",
       "</style>\n",
       "<table border=\"1\" class=\"dataframe\">\n",
       "  <thead>\n",
       "    <tr style=\"text-align: right;\">\n",
       "      <th></th>\n",
       "      <th>line</th>\n",
       "      <th>morse</th>\n",
       "    </tr>\n",
       "  </thead>\n",
       "  <tbody>\n",
       "    <tr>\n",
       "      <th>0</th>\n",
       "      <td>The title was cataloged by the Library of Cong...</td>\n",
       "      <td>- .... . / - .. - .-.. . / .-- .- ... / -.-. ....</td>\n",
       "    </tr>\n",
       "    <tr>\n",
       "      <th>1</th>\n",
       "      <td>The egg flew into the air.</td>\n",
       "      <td>- .... . / . --. --. / ..-. .-.. . .-- / .. -....</td>\n",
       "    </tr>\n",
       "    <tr>\n",
       "      <th>2</th>\n",
       "      <td>She went away.</td>\n",
       "      <td>... .... . / .-- . -. - / .- .-- .- -.-- .-.-.-</td>\n",
       "    </tr>\n",
       "    <tr>\n",
       "      <th>3</th>\n",
       "      <td>Where is my mother?</td>\n",
       "      <td>.-- .... . .-. . / .. ... / -- -.-- / -- --- -...</td>\n",
       "    </tr>\n",
       "    <tr>\n",
       "      <th>4</th>\n",
       "      <td>He was looking for her.</td>\n",
       "      <td>.... . / .-- .- ... / .-.. --- --- -.- .. -. -...</td>\n",
       "    </tr>\n",
       "    <tr>\n",
       "      <th>...</th>\n",
       "      <td>...</td>\n",
       "      <td>...</td>\n",
       "    </tr>\n",
       "    <tr>\n",
       "      <th>531971</th>\n",
       "      <td>Where did you get those?</td>\n",
       "      <td>.-- .... . .-. . / -.. .. -.. / -.-- --- ..- /...</td>\n",
       "    </tr>\n",
       "    <tr>\n",
       "      <th>531972</th>\n",
       "      <td>They're Uncle Clarry's.</td>\n",
       "      <td>- .... . -.-- .----. .-. . / ..- -. -.-. .-.. ...</td>\n",
       "    </tr>\n",
       "    <tr>\n",
       "      <th>531973</th>\n",
       "      <td>She could see the back porch and steps.</td>\n",
       "      <td>... .... . / -.-. --- ..- .-.. -.. / ... . . /...</td>\n",
       "    </tr>\n",
       "    <tr>\n",
       "      <th>531974</th>\n",
       "      <td>Theo said that he looked normal.</td>\n",
       "      <td>- .... . --- / ... .- .. -.. / - .... .- - / ....</td>\n",
       "    </tr>\n",
       "    <tr>\n",
       "      <th>531975</th>\n",
       "      <td>The man walked down to the shore and stared at...</td>\n",
       "      <td>- .... . / -- .- -. / .-- .- .-.. -.- . -.. / ...</td>\n",
       "    </tr>\n",
       "  </tbody>\n",
       "</table>\n",
       "<p>531976 rows × 2 columns</p>\n",
       "</div>"
      ],
      "text/plain": [
       "                                                     line  \\\n",
       "0       The title was cataloged by the Library of Cong...   \n",
       "1                              The egg flew into the air.   \n",
       "2                                          She went away.   \n",
       "3                                     Where is my mother?   \n",
       "4                                 He was looking for her.   \n",
       "...                                                   ...   \n",
       "531971                           Where did you get those?   \n",
       "531972                            They're Uncle Clarry's.   \n",
       "531973            She could see the back porch and steps.   \n",
       "531974                   Theo said that he looked normal.   \n",
       "531975  The man walked down to the shore and stared at...   \n",
       "\n",
       "                                                    morse  \n",
       "0       - .... . / - .. - .-.. . / .-- .- ... / -.-. ....  \n",
       "1       - .... . / . --. --. / ..-. .-.. . .-- / .. -....  \n",
       "2         ... .... . / .-- . -. - / .- .-- .- -.-- .-.-.-  \n",
       "3       .-- .... . .-. . / .. ... / -- -.-- / -- --- -...  \n",
       "4       .... . / .-- .- ... / .-.. --- --- -.- .. -. -...  \n",
       "...                                                   ...  \n",
       "531971  .-- .... . .-. . / -.. .. -.. / -.-- --- ..- /...  \n",
       "531972  - .... . -.-- .----. .-. . / ..- -. -.-. .-.. ...  \n",
       "531973  ... .... . / -.-. --- ..- .-.. -.. / ... . . /...  \n",
       "531974  - .... . --- / ... .- .. -.. / - .... .- - / ....  \n",
       "531975  - .... . / -- .- -. / .-- .- .-.. -.- . -.. / ...  \n",
       "\n",
       "[531976 rows x 2 columns]"
      ]
     },
     "execution_count": 85,
     "metadata": {},
     "output_type": "execute_result"
    }
   ],
   "source": [
    "import pandas as pd\n",
    "from datasets import Dataset\n",
    "\n",
    "# Convert Dataset to pandas DataFrame\n",
    "df = new_ds.to_pandas()\n",
    "\n",
    "# Drop duplicates (across all columns, or specify subset)\n",
    "df = df.drop_duplicates()  # Or: df.drop_duplicates(subset=[\"line\"])\n",
    "\n",
    "# Convert back to Hugging Face Dataset\n",
    "deduped_dataset = Dataset.from_pandas(df, preserve_index=False)\n",
    "\n",
    "deduped_dataset.to_pandas()"
   ]
  },
  {
   "cell_type": "code",
   "execution_count": 86,
   "id": "f86a9eac",
   "metadata": {},
   "outputs": [
    {
     "name": "stdout",
     "output_type": "stream",
     "text": [
      "{'line': \"Domino's pink nose twitched as he crawled out from under the table.\", 'morse': '-.. --- -- .. -. --- .----. ... / .--. .. -. -.- / -. --- ... . / - .-- .. - -.-. .... . -.. / .- ... / .... . / -.-. .-. .- .-- .-.. . -.. / --- ..- - / ..-. .-. --- -- / ..- -. -.. . .-. / - .... . / - .- -... .-.. . .-.-.-'}\n",
      "DOMINO'S PINK NOSE TWITCHED AS HE CRAWLED OUT FROM UNDER THE TABLE.\n"
     ]
    }
   ],
   "source": [
    "# Test if special are normalized\n",
    "from decode import decode_from_morse\n",
    "\n",
    "print(deduped_dataset[15687])\n",
    "print(decode_from_morse(deduped_dataset[15687][\"morse\"]))\n"
   ]
  },
  {
   "cell_type": "markdown",
   "id": "8179f098",
   "metadata": {},
   "source": [
    "Change this to your Hugging Face repository if needed"
   ]
  },
  {
   "cell_type": "code",
   "execution_count": null,
   "id": "44368dac",
   "metadata": {},
   "outputs": [
    {
     "data": {
      "application/vnd.jupyter.widget-view+json": {
       "model_id": "467ff3d401af4ba08318021a8cc1afb9",
       "version_major": 2,
       "version_minor": 0
      },
      "text/plain": [
       "Uploading the dataset shards:   0%|          | 0/1 [00:00<?, ?it/s]"
      ]
     },
     "metadata": {},
     "output_type": "display_data"
    },
    {
     "data": {
      "application/vnd.jupyter.widget-view+json": {
       "model_id": "e2a99af0cd8649a698500022cc32b379",
       "version_major": 2,
       "version_minor": 0
      },
      "text/plain": [
       "Creating parquet from Arrow format:   0%|          | 0/532 [00:00<?, ?ba/s]"
      ]
     },
     "metadata": {},
     "output_type": "display_data"
    },
    {
     "data": {
      "text/plain": [
       "CommitInfo(commit_url='https://huggingface.co/datasets/philipfourie/books3_basic_sentenses_paraphrased-Morse/commit/b7b7719e52db13b28540a48e6d8b80a299c8c01f', commit_message='Upload dataset', commit_description='', oid='b7b7719e52db13b28540a48e6d8b80a299c8c01f', pr_url=None, repo_url=RepoUrl('https://huggingface.co/datasets/philipfourie/books3_basic_sentenses_paraphrased-Morse', endpoint='https://huggingface.co', repo_type='dataset', repo_id='philipfourie/books3_basic_sentenses_paraphrased-Morse'), pr_revision=None, pr_num=None)"
      ]
     },
     "execution_count": 89,
     "metadata": {},
     "output_type": "execute_result"
    },
    {
     "ename": "",
     "evalue": "",
     "output_type": "error",
     "traceback": [
      "\u001b[1;31mThe Kernel crashed while executing code in the current cell or a previous cell. \n",
      "\u001b[1;31mPlease review the code in the cell(s) to identify a possible cause of the failure. \n",
      "\u001b[1;31mClick <a href='https://aka.ms/vscodeJupyterKernelCrash'>here</a> for more info. \n",
      "\u001b[1;31mView Jupyter <a href='command:jupyter.viewOutput'>log</a> for further details."
     ]
    }
   ],
   "source": [
    "deduped_dataset.push_to_hub(\"philipfourie/books3_basic_sentenses_paraphrased-Morse\", private=False)"
   ]
  },
  {
   "cell_type": "code",
   "execution_count": null,
   "id": "fec64a81",
   "metadata": {},
   "outputs": [],
   "source": []
  }
 ],
 "metadata": {
  "kernelspec": {
   "display_name": ".venv",
   "language": "python",
   "name": "python3"
  },
  "language_info": {
   "codemirror_mode": {
    "name": "ipython",
    "version": 3
   },
   "file_extension": ".py",
   "mimetype": "text/x-python",
   "name": "python",
   "nbconvert_exporter": "python",
   "pygments_lexer": "ipython3",
   "version": "3.12.10"
  }
 },
 "nbformat": 4,
 "nbformat_minor": 5
}
