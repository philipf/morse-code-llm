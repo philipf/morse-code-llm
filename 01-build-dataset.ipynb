{
 "cells": [
  {
   "cell_type": "markdown",
   "id": "89fc7924",
   "metadata": {},
   "source": [
    "# Create the Training Data\n",
    "\n",
    "The goal is to create sample data consisting of common English phrases paired with their corresponding translations in Morse Code. This data will later be used as training and testing material when fine-tuning the LLM.  \n",
    "This notebook downloads a [dataset](https://huggingface.co/datasets/skeskinen/books3_basic_sentenses_paraphrased) from Hugging Face."
   ]
  },
  {
   "cell_type": "code",
   "execution_count": 16,
   "id": "4b6147ae",
   "metadata": {},
   "outputs": [],
   "source": [
    "from datasets import load_dataset\n",
    "ds = load_dataset(\"skeskinen/books3_basic_sentenses_paraphrased\", split=\"train\")"
   ]
  },
  {
   "cell_type": "markdown",
   "id": "22d8d05d",
   "metadata": {},
   "source": [
    "This dataset contains about 670K rows, for this purpose we are only interested in the `paraphrase` column"
   ]
  },
  {
   "cell_type": "code",
   "execution_count": 17,
   "id": "6819c69a",
   "metadata": {},
   "outputs": [
    {
     "data": {
      "text/html": [
       "<div>\n",
       "<style scoped>\n",
       "    .dataframe tbody tr th:only-of-type {\n",
       "        vertical-align: middle;\n",
       "    }\n",
       "\n",
       "    .dataframe tbody tr th {\n",
       "        vertical-align: top;\n",
       "    }\n",
       "\n",
       "    .dataframe thead th {\n",
       "        text-align: right;\n",
       "    }\n",
       "</style>\n",
       "<table border=\"1\" class=\"dataframe\">\n",
       "  <thead>\n",
       "    <tr style=\"text-align: right;\">\n",
       "      <th></th>\n",
       "      <th>text</th>\n",
       "      <th>book</th>\n",
       "      <th>pos</th>\n",
       "      <th>smog_index</th>\n",
       "      <th>paraphrase</th>\n",
       "    </tr>\n",
       "  </thead>\n",
       "  <tbody>\n",
       "    <tr>\n",
       "      <th>0</th>\n",
       "      <td>This title was originally cataloged by the Lib...</td>\n",
       "      <td>Are You My Mother_ - P.D. Eastman</td>\n",
       "      <td>0.014706</td>\n",
       "      <td>4.8</td>\n",
       "      <td>The title was cataloged by the Library of Cong...</td>\n",
       "    </tr>\n",
       "    <tr>\n",
       "      <th>1</th>\n",
       "      <td>The egg jumped.</td>\n",
       "      <td>Are You My Mother_ - P.D. Eastman</td>\n",
       "      <td>0.113971</td>\n",
       "      <td>4.8</td>\n",
       "      <td>The egg flew into the air.</td>\n",
       "    </tr>\n",
       "    <tr>\n",
       "      <th>2</th>\n",
       "      <td>So away she went.</td>\n",
       "      <td>Are You My Mother_ - P.D. Eastman</td>\n",
       "      <td>0.158088</td>\n",
       "      <td>4.8</td>\n",
       "      <td>She went away.</td>\n",
       "    </tr>\n",
       "    <tr>\n",
       "      <th>3</th>\n",
       "      <td>\"Where is my mother?\"</td>\n",
       "      <td>Are You My Mother_ - P.D. Eastman</td>\n",
       "      <td>0.191176</td>\n",
       "      <td>4.8</td>\n",
       "      <td>Where is my mother?</td>\n",
       "    </tr>\n",
       "    <tr>\n",
       "      <th>4</th>\n",
       "      <td>He looked for her.</td>\n",
       "      <td>Are You My Mother_ - P.D. Eastman</td>\n",
       "      <td>0.202206</td>\n",
       "      <td>4.8</td>\n",
       "      <td>He was looking for her.</td>\n",
       "    </tr>\n",
       "    <tr>\n",
       "      <th>...</th>\n",
       "      <td>...</td>\n",
       "      <td>...</td>\n",
       "      <td>...</td>\n",
       "      <td>...</td>\n",
       "      <td>...</td>\n",
       "    </tr>\n",
       "    <tr>\n",
       "      <th>670199</th>\n",
       "      <td>He seemed to be in his early twenties.</td>\n",
       "      <td>A Gathering of Old Men</td>\n",
       "      <td>0.280271</td>\n",
       "      <td>5.6</td>\n",
       "      <td>He was in his twenties.</td>\n",
       "    </tr>\n",
       "    <tr>\n",
       "      <th>670200</th>\n",
       "      <td>He was about five eight, and weighed round a h...</td>\n",
       "      <td>A Gathering of Old Men</td>\n",
       "      <td>0.280271</td>\n",
       "      <td>5.6</td>\n",
       "      <td>He was around 100 and forty pounds.</td>\n",
       "    </tr>\n",
       "    <tr>\n",
       "      <th>670201</th>\n",
       "      <td>Even from this distance you could see he was s...</td>\n",
       "      <td>A Gathering of Old Men</td>\n",
       "      <td>0.280271</td>\n",
       "      <td>5.6</td>\n",
       "      <td>He was scared even from this distance.</td>\n",
       "    </tr>\n",
       "    <tr>\n",
       "      <th>670202</th>\n",
       "      <td>He was unarmed, and he reached back into the c...</td>\n",
       "      <td>A Gathering of Old Men</td>\n",
       "      <td>0.280271</td>\n",
       "      <td>5.6</td>\n",
       "      <td>He reached into the car for a gun and was not ...</td>\n",
       "    </tr>\n",
       "    <tr>\n",
       "      <th>670203</th>\n",
       "      <td>Mapes spoke to him from over his shoulder, and...</td>\n",
       "      <td>A Gathering of Old Men</td>\n",
       "      <td>0.280271</td>\n",
       "      <td>5.6</td>\n",
       "      <td>Mapes put the gun back in his hand after talki...</td>\n",
       "    </tr>\n",
       "  </tbody>\n",
       "</table>\n",
       "<p>670204 rows × 5 columns</p>\n",
       "</div>"
      ],
      "text/plain": [
       "                                                     text  \\\n",
       "0       This title was originally cataloged by the Lib...   \n",
       "1                                         The egg jumped.   \n",
       "2                                       So away she went.   \n",
       "3                                 \"Where is my mother?\"     \n",
       "4                                      He looked for her.   \n",
       "...                                                   ...   \n",
       "670199             He seemed to be in his early twenties.   \n",
       "670200  He was about five eight, and weighed round a h...   \n",
       "670201  Even from this distance you could see he was s...   \n",
       "670202  He was unarmed, and he reached back into the c...   \n",
       "670203  Mapes spoke to him from over his shoulder, and...   \n",
       "\n",
       "                                     book       pos  smog_index  \\\n",
       "0       Are You My Mother_ - P.D. Eastman  0.014706         4.8   \n",
       "1       Are You My Mother_ - P.D. Eastman  0.113971         4.8   \n",
       "2       Are You My Mother_ - P.D. Eastman  0.158088         4.8   \n",
       "3       Are You My Mother_ - P.D. Eastman  0.191176         4.8   \n",
       "4       Are You My Mother_ - P.D. Eastman  0.202206         4.8   \n",
       "...                                   ...       ...         ...   \n",
       "670199             A Gathering of Old Men  0.280271         5.6   \n",
       "670200             A Gathering of Old Men  0.280271         5.6   \n",
       "670201             A Gathering of Old Men  0.280271         5.6   \n",
       "670202             A Gathering of Old Men  0.280271         5.6   \n",
       "670203             A Gathering of Old Men  0.280271         5.6   \n",
       "\n",
       "                                               paraphrase  \n",
       "0       The title was cataloged by the Library of Cong...  \n",
       "1                              The egg flew into the air.  \n",
       "2                                          She went away.  \n",
       "3                                     Where is my mother?  \n",
       "4                                 He was looking for her.  \n",
       "...                                                   ...  \n",
       "670199                            He was in his twenties.  \n",
       "670200                He was around 100 and forty pounds.  \n",
       "670201             He was scared even from this distance.  \n",
       "670202  He reached into the car for a gun and was not ...  \n",
       "670203  Mapes put the gun back in his hand after talki...  \n",
       "\n",
       "[670204 rows x 5 columns]"
      ]
     },
     "execution_count": 17,
     "metadata": {},
     "output_type": "execute_result"
    }
   ],
   "source": [
    "ds.to_pandas()"
   ]
  },
  {
   "cell_type": "markdown",
   "id": "66d914b6",
   "metadata": {},
   "source": [
    "Create a function to remove diacritics from characters, since most diacritic marks are not represented in Morse Code."
   ]
  },
  {
   "cell_type": "code",
   "execution_count": 18,
   "id": "4b74be9d",
   "metadata": {},
   "outputs": [],
   "source": [
    "import unicodedata\n",
    "\n",
    "def normalize_text(text):\n",
    "    # Normalize to NFKD form which separates characters from their diacritics\n",
    "    normalized = unicodedata.normalize('NFKD', text)\n",
    "    # Filter out combining characters (accents, etc.)\n",
    "    ascii_text = ''.join([c for c in normalized if not unicodedata.combining(c)])\n",
    "    return ascii_text"
   ]
  },
  {
   "cell_type": "markdown",
   "id": "7d706b9b",
   "metadata": {},
   "source": [
    "Encode each `paraphrase` text into Morse Code. The result should include both the original text and its corresponding Morse Code translation."
   ]
  },
  {
   "cell_type": "code",
   "execution_count": 19,
   "id": "72d96c5a",
   "metadata": {},
   "outputs": [],
   "source": [
    "from encode import encode_to_morse\n",
    "\n",
    "def apply_encoding(batch):\n",
    "    lines = []\n",
    "    morse = []\n",
    "\n",
    "    for text in batch[\"paraphrase\"]:\n",
    "        lines.append(text)\n",
    "        morse.append(encode_to_morse(normalize_text(text), skip_unknown=True))\n",
    "\n",
    "    return {\n",
    "        \"line\": lines,\n",
    "        \"morse\": morse\n",
    "    }\n"
   ]
  },
  {
   "cell_type": "code",
   "execution_count": 20,
   "id": "cd33f015",
   "metadata": {},
   "outputs": [
    {
     "data": {
      "text/html": [
       "<div>\n",
       "<style scoped>\n",
       "    .dataframe tbody tr th:only-of-type {\n",
       "        vertical-align: middle;\n",
       "    }\n",
       "\n",
       "    .dataframe tbody tr th {\n",
       "        vertical-align: top;\n",
       "    }\n",
       "\n",
       "    .dataframe thead th {\n",
       "        text-align: right;\n",
       "    }\n",
       "</style>\n",
       "<table border=\"1\" class=\"dataframe\">\n",
       "  <thead>\n",
       "    <tr style=\"text-align: right;\">\n",
       "      <th></th>\n",
       "      <th>line</th>\n",
       "      <th>morse</th>\n",
       "    </tr>\n",
       "  </thead>\n",
       "  <tbody>\n",
       "    <tr>\n",
       "      <th>0</th>\n",
       "      <td>The title was cataloged by the Library of Cong...</td>\n",
       "      <td>- .... . / - .. - .-.. . / .-- .- ... / -.-. ....</td>\n",
       "    </tr>\n",
       "    <tr>\n",
       "      <th>1</th>\n",
       "      <td>The egg flew into the air.</td>\n",
       "      <td>- .... . / . --. --. / ..-. .-.. . .-- / .. -....</td>\n",
       "    </tr>\n",
       "    <tr>\n",
       "      <th>2</th>\n",
       "      <td>She went away.</td>\n",
       "      <td>... .... . / .-- . -. - / .- .-- .- -.-- .-.-.-</td>\n",
       "    </tr>\n",
       "    <tr>\n",
       "      <th>3</th>\n",
       "      <td>Where is my mother?</td>\n",
       "      <td>.-- .... . .-. . / .. ... / -- -.-- / -- --- -...</td>\n",
       "    </tr>\n",
       "    <tr>\n",
       "      <th>4</th>\n",
       "      <td>He was looking for her.</td>\n",
       "      <td>.... . / .-- .- ... / .-.. --- --- -.- .. -. -...</td>\n",
       "    </tr>\n",
       "    <tr>\n",
       "      <th>...</th>\n",
       "      <td>...</td>\n",
       "      <td>...</td>\n",
       "    </tr>\n",
       "    <tr>\n",
       "      <th>670199</th>\n",
       "      <td>He was in his twenties.</td>\n",
       "      <td>.... . / .-- .- ... / .. -. / .... .. ... / - ...</td>\n",
       "    </tr>\n",
       "    <tr>\n",
       "      <th>670200</th>\n",
       "      <td>He was around 100 and forty pounds.</td>\n",
       "      <td>.... . / .-- .- ... / .- .-. --- ..- -. -.. / ...</td>\n",
       "    </tr>\n",
       "    <tr>\n",
       "      <th>670201</th>\n",
       "      <td>He was scared even from this distance.</td>\n",
       "      <td>.... . / .-- .- ... / ... -.-. .- .-. . -.. / ...</td>\n",
       "    </tr>\n",
       "    <tr>\n",
       "      <th>670202</th>\n",
       "      <td>He reached into the car for a gun and was not ...</td>\n",
       "      <td>.... . / .-. . .- -.-. .... . -.. / .. -. - --...</td>\n",
       "    </tr>\n",
       "    <tr>\n",
       "      <th>670203</th>\n",
       "      <td>Mapes put the gun back in his hand after talki...</td>\n",
       "      <td>-- .- .--. . ... / .--. ..- - / - .... . / --....</td>\n",
       "    </tr>\n",
       "  </tbody>\n",
       "</table>\n",
       "<p>670204 rows × 2 columns</p>\n",
       "</div>"
      ],
      "text/plain": [
       "                                                     line  \\\n",
       "0       The title was cataloged by the Library of Cong...   \n",
       "1                              The egg flew into the air.   \n",
       "2                                          She went away.   \n",
       "3                                     Where is my mother?   \n",
       "4                                 He was looking for her.   \n",
       "...                                                   ...   \n",
       "670199                            He was in his twenties.   \n",
       "670200                He was around 100 and forty pounds.   \n",
       "670201             He was scared even from this distance.   \n",
       "670202  He reached into the car for a gun and was not ...   \n",
       "670203  Mapes put the gun back in his hand after talki...   \n",
       "\n",
       "                                                    morse  \n",
       "0       - .... . / - .. - .-.. . / .-- .- ... / -.-. ....  \n",
       "1       - .... . / . --. --. / ..-. .-.. . .-- / .. -....  \n",
       "2         ... .... . / .-- . -. - / .- .-- .- -.-- .-.-.-  \n",
       "3       .-- .... . .-. . / .. ... / -- -.-- / -- --- -...  \n",
       "4       .... . / .-- .- ... / .-.. --- --- -.- .. -. -...  \n",
       "...                                                   ...  \n",
       "670199  .... . / .-- .- ... / .. -. / .... .. ... / - ...  \n",
       "670200  .... . / .-- .- ... / .- .-. --- ..- -. -.. / ...  \n",
       "670201  .... . / .-- .- ... / ... -.-. .- .-. . -.. / ...  \n",
       "670202  .... . / .-. . .- -.-. .... . -.. / .. -. - --...  \n",
       "670203  -- .- .--. . ... / .--. ..- - / - .... . / --....  \n",
       "\n",
       "[670204 rows x 2 columns]"
      ]
     },
     "execution_count": 20,
     "metadata": {},
     "output_type": "execute_result"
    }
   ],
   "source": [
    "new_ds = ds.map(apply_encoding, batched=True, remove_columns=[\"paraphrase\", \"text\", \"book\", \"pos\", \"smog_index\"], num_proc=8)\n",
    "new_ds.to_pandas()"
   ]
  },
  {
   "cell_type": "markdown",
   "id": "7c7dddc4",
   "metadata": {},
   "source": [
    "Remove any duplicate entries to avoid training the LLM on repeated data. While duplicates wouldn't cause harm, there is no need to repeat values at this stage of data preparation."
   ]
  },
  {
   "cell_type": "code",
   "execution_count": 27,
   "id": "54f4e371",
   "metadata": {},
   "outputs": [],
   "source": [
    "import pandas as pd\n",
    "from datasets import Dataset\n",
    "\n",
    "\n",
    "df = new_ds.to_pandas()\n",
    "\n",
    "# Drop duplicates (across all columns, or specify subset)\n",
    "df = df.drop_duplicates()  \n",
    "# Convert back to Hugging Face Dataset\n",
    "deduped_dataset = Dataset.from_pandas(df, preserve_index=False)"
   ]
  },
  {
   "cell_type": "markdown",
   "id": "8179f098",
   "metadata": {},
   "source": [
    "Print the number of rows in the original and deduplicated datasets"
   ]
  },
  {
   "cell_type": "code",
   "execution_count": 32,
   "id": "84055ed9",
   "metadata": {},
   "outputs": [
    {
     "name": "stdout",
     "output_type": "stream",
     "text": [
      "Original dataset size    : 670204\n",
      "Deduplicated dataset size: 531976\n"
     ]
    }
   ],
   "source": [
    "print(f\"Original dataset size    : {len(new_ds)}\")\n",
    "print(f\"Deduplicated dataset size: {len(deduped_dataset)}\")"
   ]
  },
  {
   "cell_type": "markdown",
   "id": "9fc96f35",
   "metadata": {},
   "source": [
    "## Upload the prepared dataset to your repository on Hugging Face\n",
    "\n",
    "Make sure you have logged into Hugging Face using their CLI tool if you haven't done so before.\n",
    "\n",
    "```bash\n",
    "hugging-face login\n",
    "```\n",
    "\n",
    "You can now upload your dataset to Hugging Face, make sure to update the repository name to your own."
   ]
  },
  {
   "cell_type": "code",
   "execution_count": 35,
   "id": "44368dac",
   "metadata": {},
   "outputs": [
    {
     "data": {
      "application/vnd.jupyter.widget-view+json": {
       "model_id": "8b8f50da9c2d4c99856e240114f25bd8",
       "version_major": 2,
       "version_minor": 0
      },
      "text/plain": [
       "Uploading the dataset shards:   0%|          | 0/1 [00:00<?, ?it/s]"
      ]
     },
     "metadata": {},
     "output_type": "display_data"
    },
    {
     "data": {
      "application/vnd.jupyter.widget-view+json": {
       "model_id": "c521505cf94540e29a1ebfa83b9eb7a9",
       "version_major": 2,
       "version_minor": 0
      },
      "text/plain": [
       "Creating parquet from Arrow format:   0%|          | 0/532 [00:00<?, ?ba/s]"
      ]
     },
     "metadata": {},
     "output_type": "display_data"
    },
    {
     "name": "stderr",
     "output_type": "stream",
     "text": [
      "No files have been modified since last commit. Skipping to prevent empty commit.\n"
     ]
    },
    {
     "data": {
      "text/plain": [
       "CommitInfo(commit_url='https://huggingface.co/datasets/philipfourie/books3_basic_sentenses_paraphrased-Morse/commit/b7b7719e52db13b28540a48e6d8b80a299c8c01f', commit_message='Upload dataset', commit_description='', oid='b7b7719e52db13b28540a48e6d8b80a299c8c01f', pr_url=None, repo_url=RepoUrl('https://huggingface.co/datasets/philipfourie/books3_basic_sentenses_paraphrased-Morse', endpoint='https://huggingface.co', repo_type='dataset', repo_id='philipfourie/books3_basic_sentenses_paraphrased-Morse'), pr_revision=None, pr_num=None)"
      ]
     },
     "execution_count": 35,
     "metadata": {},
     "output_type": "execute_result"
    }
   ],
   "source": [
    "deduped_dataset.push_to_hub(\"philipfourie/books3_basic_sentenses_paraphrased-Morse\", private=False)"
   ]
  },
  {
   "cell_type": "markdown",
   "id": "be5621b9",
   "metadata": {},
   "source": [
    "This completes the preparation of your training data that can be used for both training and validation.\n",
    "These files are available in [parquet](https://huggingface.co/datasets/philipfourie/books3_basic_sentenses_paraphrased-Morse/tree/main/data) format in your Hugging Face Datasets repository.\n",
    "\n",
    "https://huggingface.co/datasets/philipfourie/books3_basic_sentenses_paraphrased-Morse"
   ]
  }
 ],
 "metadata": {
  "kernelspec": {
   "display_name": ".venv",
   "language": "python",
   "name": "python3"
  },
  "language_info": {
   "codemirror_mode": {
    "name": "ipython",
    "version": 3
   },
   "file_extension": ".py",
   "mimetype": "text/x-python",
   "name": "python",
   "nbconvert_exporter": "python",
   "pygments_lexer": "ipython3",
   "version": "3.12.10"
  }
 },
 "nbformat": 4,
 "nbformat_minor": 5
}
