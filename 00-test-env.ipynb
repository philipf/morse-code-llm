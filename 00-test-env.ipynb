{
 "cells": [
  {
   "cell_type": "markdown",
   "id": "dcd3d880",
   "metadata": {},
   "source": [
    "# (Optional), make sure the environment is set up\n",
    "\n",
    "Recommended: Before running this, make sure you have created a virtual environment\n",
    "\n",
    "```bash\n",
    "python -m venv .venv\n",
    "```\n",
    "\n",
    "Then install the dependencies\n",
    "\n",
    "```bash\n",
    "pip install -r requirements.txt\n",
    "```"
   ]
  },
  {
   "cell_type": "markdown",
   "id": "3622ece6",
   "metadata": {},
   "source": [
    "## Test if widgets are working\n",
    "The following code should show a progress running from 0 to 100%"
   ]
  },
  {
   "cell_type": "code",
   "execution_count": 6,
   "id": "465340fb",
   "metadata": {},
   "outputs": [
    {
     "data": {
      "application/vnd.jupyter.widget-view+json": {
       "model_id": "e76b2485a246440993d90cd948c9fb61",
       "version_major": 2,
       "version_minor": 0
      },
      "text/plain": [
       "  0%|          | 0/100 [00:00<?, ?it/s]"
      ]
     },
     "metadata": {},
     "output_type": "display_data"
    }
   ],
   "source": [
    "from time import sleep\n",
    "from tqdm.notebook import tqdm\n",
    "\n",
    "for i in tqdm(range(100)):\n",
    "    sleep(0.01)\n",
    "    pass"
   ]
  },
  {
   "cell_type": "code",
   "execution_count": 7,
   "id": "f70a4d9b",
   "metadata": {},
   "outputs": [
    {
     "data": {
      "text/plain": [
       "'.... . .-.. .-.. --- / .-- --- .-. .-.. -..'"
      ]
     },
     "execution_count": 7,
     "metadata": {},
     "output_type": "execute_result"
    }
   ],
   "source": [
    "from encode import encode_to_morse\n",
    "encode_to_morse(\"Hello  World ^\", skip_unknown=True)"
   ]
  },
  {
   "cell_type": "code",
   "execution_count": 8,
   "id": "b0a79c29",
   "metadata": {},
   "outputs": [
    {
     "data": {
      "text/plain": [
       "'HELLO WORLD'"
      ]
     },
     "execution_count": 8,
     "metadata": {},
     "output_type": "execute_result"
    }
   ],
   "source": [
    "from decode import decode_from_morse\n",
    "decode_from_morse(\".... . .-.. .-.. --- / .-- --- .-. .-.. -..\")"
   ]
  },
  {
   "cell_type": "markdown",
   "id": "577fd832",
   "metadata": {},
   "source": [
    "Make sure CUDA is correctly configured\n"
   ]
  },
  {
   "cell_type": "code",
   "execution_count": null,
   "id": "bde42c4c",
   "metadata": {},
   "outputs": [
    {
     "name": "stdout",
     "output_type": "stream",
     "text": [
      "12.4\n",
      "True\n",
      "Quadro RTX 5000\n"
     ]
    }
   ],
   "source": [
    "import torch\n",
    "\n",
    "print(torch.version.cuda)             # ✅ Should return a version like '12.4'\n",
    "print(torch.cuda.is_available())      # ✅ Should return True\n",
    "print(torch.cuda.get_device_name(0))  # ✅ Should return your GPU's name"
   ]
  }
 ],
 "metadata": {
  "kernelspec": {
   "display_name": ".venv",
   "language": "python",
   "name": "python3"
  },
  "language_info": {
   "codemirror_mode": {
    "name": "ipython",
    "version": 3
   },
   "file_extension": ".py",
   "mimetype": "text/x-python",
   "name": "python",
   "nbconvert_exporter": "python",
   "pygments_lexer": "ipython3",
   "version": "3.12.10"
  }
 },
 "nbformat": 4,
 "nbformat_minor": 5
}
