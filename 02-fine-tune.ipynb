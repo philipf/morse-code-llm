{
 "cells": [
  {
   "cell_type": "markdown",
   "id": "bf252ab3",
   "metadata": {},
   "source": [
    "Based one\n",
    "\n",
    "https://colab.research.google.com/github/unslothai/notebooks/blob/main/nb/Gemma3_(4B).ipynb"
   ]
  },
  {
   "cell_type": "code",
   "execution_count": null,
   "id": "d88c649a",
   "metadata": {},
   "outputs": [
    {
     "name": "stdout",
     "output_type": "stream",
     "text": [
      "🦥 Unsloth: Will patch your computer to enable 2x faster free finetuning.\n",
      "🦥 Unsloth Zoo will now patch everything to make training faster!\n",
      "==((====))==  Unsloth 2025.3.19: Fast Gemma3 patching. Transformers: 4.50.0.dev0.\n",
      "   \\\\   /|    Quadro RTX 5000. Num GPUs = 1. Max memory: 16.0 GB. Platform: Linux.\n",
      "O^O/ \\_/ \\    Torch: 2.6.0+cu124. CUDA: 7.5. CUDA Toolkit: 12.4. Triton: 3.2.0\n",
      "\\        /    Bfloat16 = FALSE. FA [Xformers = 0.0.29.post3. FA2 = False]\n",
      " \"-____-\"     Free license: http://github.com/unslothai/unsloth\n",
      "Unsloth: Fast downloading is enabled - ignore downloading bars which are red colored!\n",
      "Unsloth: Using float16 precision for gemma3 won't work! Using float32.\n"
     ]
    }
   ],
   "source": [
    "from unsloth import FastModel\n",
    "import torch\n",
    "\n",
    "model, tokenizer = FastModel.from_pretrained(\n",
    "    #model_name = \"unsloth/gemma-3-1b-pt-unsloth-bnb-4bit\",\n",
    "    model = \"google/gemma-3-1b-pt\",\n",
    "    max_seq_length = 2048, # Choose any for long context!\n",
    "    load_in_4bit = False,  # 4 bit quantization to reduce memory\n",
    "    load_in_8bit = False, # [NEW!] A bit more accurate, uses 2x memory\n",
    "    full_finetuning = False, # [NEW!] We have full finetuning now!\n",
    ")"
   ]
  },
  {
   "cell_type": "markdown",
   "id": "f5e23a59",
   "metadata": {},
   "source": [
    "## Load LoRA adapters"
   ]
  },
  {
   "cell_type": "code",
   "execution_count": 2,
   "id": "e82a108c",
   "metadata": {},
   "outputs": [
    {
     "name": "stdout",
     "output_type": "stream",
     "text": [
      "Unsloth: Making `model.base_model.model.model` require gradients\n"
     ]
    }
   ],
   "source": [
    "model = FastModel.get_peft_model(\n",
    "    model,\n",
    "    finetune_vision_layers     = False, # Turn off for just text!\n",
    "    finetune_language_layers   = True,  # Should leave on!\n",
    "    finetune_attention_modules = True,  # Attention good for GRPO\n",
    "    finetune_mlp_modules       = True,  # SHould leave on always!\n",
    "\n",
    "    r = 8,           # Larger = higher accuracy, but might overfit\n",
    "    lora_alpha = 8,  # Recommended alpha == r at least\n",
    "    lora_dropout = 0,\n",
    "    bias = \"none\",\n",
    "    random_state = 3407,\n",
    ")"
   ]
  },
  {
   "cell_type": "code",
   "execution_count": 3,
   "id": "03218f65",
   "metadata": {},
   "outputs": [],
   "source": [
    "from unsloth.chat_templates import get_chat_template\n",
    "tokenizer = get_chat_template(\n",
    "    tokenizer,\n",
    "    chat_template = \"gemma-3\",\n",
    ")"
   ]
  },
  {
   "cell_type": "code",
   "execution_count": 4,
   "id": "c8abbe19",
   "metadata": {},
   "outputs": [],
   "source": [
    "from datasets import load_dataset\n",
    "dataset = load_dataset(\"philipfourie/books3_basic_sentenses_paraphrased-Morse\", split=\"train\")"
   ]
  },
  {
   "cell_type": "code",
   "execution_count": 5,
   "id": "bc53ed8e",
   "metadata": {},
   "outputs": [
    {
     "data": {
      "text/plain": [
       "Dataset({\n",
       "    features: ['line', 'morse'],\n",
       "    num_rows: 531976\n",
       "})"
      ]
     },
     "execution_count": 5,
     "metadata": {},
     "output_type": "execute_result"
    }
   ],
   "source": [
    "dataset"
   ]
  },
  {
   "cell_type": "code",
   "execution_count": 6,
   "id": "104ef63f",
   "metadata": {},
   "outputs": [
    {
     "data": {
      "text/plain": [
       "{'line': 'The title was cataloged by the Library of Congress.',\n",
       " 'morse': '- .... . / - .. - .-.. . / .-- .- ... / -.-. .- - .- .-.. --- --. . -.. / -... -.-- / - .... . / .-.. .. -... .-. .- .-. -.-- / --- ..-. / -.-. --- -. --. .-. . ... ... .-.-.-'}"
      ]
     },
     "execution_count": 6,
     "metadata": {},
     "output_type": "execute_result"
    }
   ],
   "source": [
    "dataset[0]"
   ]
  },
  {
   "cell_type": "code",
   "execution_count": null,
   "id": "d17b243c",
   "metadata": {},
   "outputs": [],
   "source": [
    "def apply_conversations(example):\n",
    "    return {\n",
    "        \"conversations\": [\n",
    "            {\n",
    "                \"content\": example[\"line\"],\n",
    "                \"role\": \"user\",\n",
    "            },\n",
    "            {\n",
    "                \"content\": example[\"morse\"] + tokenizer.eos_token,\n",
    "                \"role\": \"assistant\",\n",
    "            },\n",
    "        ]\n",
    "    }"
   ]
  },
  {
   "cell_type": "code",
   "execution_count": 8,
   "id": "96d64cca",
   "metadata": {},
   "outputs": [
    {
     "data": {
      "text/plain": [
       "Dataset({\n",
       "    features: ['conversations'],\n",
       "    num_rows: 531976\n",
       "})"
      ]
     },
     "execution_count": 8,
     "metadata": {},
     "output_type": "execute_result"
    }
   ],
   "source": [
    "convos = dataset.map(\n",
    "    apply_conversations,\n",
    "    remove_columns = [\"line\", \"morse\"],\n",
    "    #num_proc = 1,\n",
    "    desc = \"Applying conversations\",\n",
    ")\n",
    "convos"
   ]
  },
  {
   "cell_type": "code",
   "execution_count": 9,
   "id": "d83f87fc",
   "metadata": {},
   "outputs": [
    {
     "data": {
      "text/plain": [
       "{'conversations': [{'content': 'The title was cataloged by the Library of Congress.>>',\n",
       "   'role': 'user'},\n",
       "  {'content': '- .... . / - .. - .-.. . / .-- .- ... / -.-. .- - .- .-.. --- --. . -.. / -... -.-- / - .... . / .-.. .. -... .-. .- .-. -.-- / --- ..-. / -.-. --- -. --. .-. . ... ... .-.-.-',\n",
       "   'role': 'assistant'}]}"
      ]
     },
     "execution_count": 9,
     "metadata": {},
     "output_type": "execute_result"
    }
   ],
   "source": [
    "convos[0]"
   ]
  },
  {
   "cell_type": "code",
   "execution_count": 10,
   "id": "6c9f2b15",
   "metadata": {},
   "outputs": [
    {
     "data": {
      "text/plain": [
       "Dataset({\n",
       "    features: ['text'],\n",
       "    num_rows: 531976\n",
       "})"
      ]
     },
     "execution_count": 10,
     "metadata": {},
     "output_type": "execute_result"
    }
   ],
   "source": [
    "def formatting_prompts_func(examples):\n",
    "   convos = examples[\"conversations\"]\n",
    "   texts = [tokenizer.apply_chat_template(convo, tokenize = False, add_generation_prompt = False).removeprefix('<bos>') for convo in convos]\n",
    "   return { \"text\" : texts, }\n",
    "\n",
    "convos = convos.map(formatting_prompts_func, remove_columns=[\"conversations\"], batched = True)\n",
    "convos"
   ]
  },
  {
   "cell_type": "code",
   "execution_count": 11,
   "id": "da3307c9",
   "metadata": {},
   "outputs": [
    {
     "data": {
      "text/plain": [
       "'<start_of_turn>user\\nThe title was cataloged by the Library of Congress.>><end_of_turn>\\n<start_of_turn>model\\n- .... . / - .. - .-.. . / .-- .- ... / -.-. .- - .- .-.. --- --. . -.. / -... -.-- / - .... . / .-.. .. -... .-. .- .-. -.-- / --- ..-. / -.-. --- -. --. .-. . ... ... .-.-.-<end_of_turn>\\n'"
      ]
     },
     "execution_count": 11,
     "metadata": {},
     "output_type": "execute_result"
    }
   ],
   "source": [
    "convos[\"text\"][0]"
   ]
  },
  {
   "cell_type": "code",
   "execution_count": 12,
   "id": "ca42e978",
   "metadata": {},
   "outputs": [],
   "source": [
    "# split the dataset into train and test\n",
    "train_dataset = convos.train_test_split(test_size=0.1, seed=42)[\"train\"]\n",
    "test_dataset = convos.train_test_split(test_size=0.1, seed=42)[\"test\"]\n",
    "\n",
    "convos = None\n",
    "dataset = None"
   ]
  },
  {
   "cell_type": "code",
   "execution_count": null,
   "id": "0ec0f744",
   "metadata": {},
   "outputs": [
    {
     "name": "stdout",
     "output_type": "stream",
     "text": [
      "Unsloth: Switching to float32 training since model cannot work with float16\n"
     ]
    }
   ],
   "source": [
    "from trl import SFTTrainer, SFTConfig\n",
    "trainer = SFTTrainer(\n",
    "    model = model,\n",
    "    tokenizer = tokenizer,\n",
    "    train_dataset = train_dataset,\n",
    "    eval_dataset = test_dataset,\n",
    "    args = SFTConfig(\n",
    "        dataset_text_field=\"text\",\n",
    "        output_dir=\"outputs\",  # Explicitly set output directory\n",
    "        logging_dir=\"outputs/tensorboard_logs\",  # Subdirectory for TensorBoard logs\n",
    "        per_device_train_batch_size = 12,\n",
    "        gradient_accumulation_steps = 4, # Use GA to mimic batch size!\n",
    "\n",
    "        warmup_steps = 15,\n",
    "        #num_train_epochs = 1, # Set this for 1 full training run.\n",
    "        max_steps = 1300,\n",
    "        learning_rate = 2e-4, # Reduce to 2e-5 for long training runs\n",
    "        logging_steps=1,  # Log every step for testing\n",
    "        eval_steps=2000,  # Enable evaluation logging\n",
    "        eval_strategy=\"steps\",\n",
    "        \n",
    "        optim = \"adamw_8bit\",\n",
    "        weight_decay = 0.01,\n",
    "        lr_scheduler_type = \"linear\",\n",
    "        seed = 3407,\n",
    "        report_to = \"tensorboard\", # Use this for WandB etc\n",
    "        dataset_num_proc=4,\n",
    "    ),\n",
    ")"
   ]
  },
  {
   "cell_type": "code",
   "execution_count": 14,
   "id": "ca78b1b0",
   "metadata": {},
   "outputs": [],
   "source": [
    "from unsloth.chat_templates import train_on_responses_only\n",
    "trainer = train_on_responses_only(\n",
    "    trainer,\n",
    "    instruction_part = \"<start_of_turn>user\\n\",\n",
    "    response_part = \"<start_of_turn>model\\n\",\n",
    ")"
   ]
  },
  {
   "cell_type": "code",
   "execution_count": 15,
   "id": "04801e5f",
   "metadata": {},
   "outputs": [
    {
     "data": {
      "text/plain": [
       "[2,\n",
       " 105,\n",
       " 2364,\n",
       " 107,\n",
       " 37967,\n",
       " 1135,\n",
       " 496,\n",
       " 44981,\n",
       " 236752,\n",
       " 657,\n",
       " 506,\n",
       " 109701,\n",
       " 236761,\n",
       " 6985,\n",
       " 106,\n",
       " 107,\n",
       " 105,\n",
       " 4368,\n",
       " 107,\n",
       " 236772,\n",
       " 4862,\n",
       " 236761,\n",
       " 2728,\n",
       " 236772,\n",
       " 753,\n",
       " 965,\n",
       " 9190,\n",
       " 2728,\n",
       " 24975,\n",
       " 2728,\n",
       " 24975,\n",
       " 965,\n",
       " 199900,\n",
       " 965,\n",
       " 199900,\n",
       " 856,\n",
       " 2728,\n",
       " 753,\n",
       " 753,\n",
       " 199900,\n",
       " 856,\n",
       " 965,\n",
       " 199900,\n",
       " 753,\n",
       " 965,\n",
       " 753,\n",
       " 27103,\n",
       " 783,\n",
       " 965,\n",
       " 783,\n",
       " 24975,\n",
       " 2728,\n",
       " 3729,\n",
       " 753,\n",
       " 199900,\n",
       " 4862,\n",
       " 4862,\n",
       " 106,\n",
       " 107]"
      ]
     },
     "execution_count": 15,
     "metadata": {},
     "output_type": "execute_result"
    }
   ],
   "source": [
    "trainer.train_dataset[100][\"input_ids\"]"
   ]
  },
  {
   "cell_type": "code",
   "execution_count": 16,
   "id": "e99bb7cd",
   "metadata": {},
   "outputs": [
    {
     "data": {
      "text/plain": [
       "'                   -.-. ..- - / --- ..-. ..-. / .- / .-.. .. - - .-.. / .- - / - .... . / .-. .. ... - .-.-.-<end_of_turn>\\n'"
      ]
     },
     "execution_count": 16,
     "metadata": {},
     "output_type": "execute_result"
    }
   ],
   "source": [
    "tokenizer.decode([tokenizer.pad_token_id if x == -100 else x for x in trainer.train_dataset[100][\"labels\"]]).replace(tokenizer.pad_token, \" \")"
   ]
  },
  {
   "cell_type": "code",
   "execution_count": 17,
   "id": "b3b3f5e4",
   "metadata": {},
   "outputs": [
    {
     "name": "stdout",
     "output_type": "stream",
     "text": [
      "GPU = Quadro RTX 5000. Max memory = 16.0 GB.\n",
      "1.512 GB of memory reserved.\n"
     ]
    }
   ],
   "source": [
    "gpu_stats = torch.cuda.get_device_properties(0)\n",
    "start_gpu_memory = round(torch.cuda.max_memory_reserved() / 1024 / 1024 / 1024, 3)\n",
    "max_memory = round(gpu_stats.total_memory / 1024 / 1024 / 1024, 3)\n",
    "print(f\"GPU = {gpu_stats.name}. Max memory = {max_memory} GB.\")\n",
    "print(f\"{start_gpu_memory} GB of memory reserved.\")"
   ]
  },
  {
   "cell_type": "code",
   "execution_count": 18,
   "id": "d78028e8",
   "metadata": {},
   "outputs": [
    {
     "name": "stderr",
     "output_type": "stream",
     "text": [
      "==((====))==  Unsloth - 2x faster free finetuning | Num GPUs used = 1\n",
      "   \\\\   /|    Num examples = 478,778 | Num Epochs = 1 | Total steps = 13\n",
      "O^O/ \\_/ \\    Batch size per device = 12 | Gradient accumulation steps = 4\n",
      "\\        /    Data Parallel GPUs = 1 | Total batch size (12 x 4 x 1) = 48\n",
      " \"-____-\"     Trainable parameters = 6,522,880/1,000,000,000 (0.65% trained)\n",
      "`use_cache=True` is incompatible with gradient checkpointing. Setting `use_cache=False`.\n"
     ]
    },
    {
     "name": "stdout",
     "output_type": "stream",
     "text": [
      "Unsloth: Will smartly offload gradients to save VRAM!\n"
     ]
    },
    {
     "data": {
      "text/html": [
       "\n",
       "    <div>\n",
       "      \n",
       "      <progress value='13' max='13' style='width:300px; height:20px; vertical-align: middle;'></progress>\n",
       "      [13/13 00:53, Epoch 0/1]\n",
       "    </div>\n",
       "    <table border=\"1\" class=\"dataframe\">\n",
       "  <thead>\n",
       " <tr style=\"text-align: left;\">\n",
       "      <th>Step</th>\n",
       "      <th>Training Loss</th>\n",
       "      <th>Validation Loss</th>\n",
       "    </tr>\n",
       "  </thead>\n",
       "  <tbody>\n",
       "  </tbody>\n",
       "</table><p>"
      ],
      "text/plain": [
       "<IPython.core.display.HTML object>"
      ]
     },
     "metadata": {},
     "output_type": "display_data"
    }
   ],
   "source": [
    "trainer_stats = trainer.train()"
   ]
  },
  {
   "cell_type": "code",
   "execution_count": 19,
   "id": "8b2c3719",
   "metadata": {},
   "outputs": [
    {
     "name": "stdout",
     "output_type": "stream",
     "text": [
      "<bos><bos><start_of_turn>user\n",
      "The cat sat on the>><end_of_turn>\n",
      "<start_of_turn>model\n",
      "-.-.-.-.-.-.-.-.-.-.-.-.-.-.-.-.-.-.-.-.-.-.-.-.-.-.-.-.-.-.-.-.-.-.-.-.-.-.-.-.-.-.-.-.-.-.-.-.-.-.-.-.-.-.-.-.-.-.-.-.-.-.-.-.-.-.-.-.-.-.-.-.-.-.-.-.-.-.-.-.-.-.-.-.-.-.-.-.-.-.-.-.-.-.-.-.-.-.-.-.-.-.-.-.-.-.-.-.-.-.-.-.-.-.-.-.-.-.-.-\n",
      "No match found.\n"
     ]
    }
   ],
   "source": [
    "from unsloth.chat_templates import get_chat_template\n",
    "tokenizer = get_chat_template(\n",
    "    tokenizer,\n",
    "    chat_template = \"gemma-3\",\n",
    ")\n",
    "messages = [{\n",
    "    \"role\": \"user\",\n",
    "    \"content\": [{\n",
    "        \"type\" : \"text\",\n",
    "        \"text\" : \"The cat sat on the>>\",\n",
    "    }]\n",
    "}]\n",
    "text = tokenizer.apply_chat_template(\n",
    "    messages,\n",
    "    tokenize= False,\n",
    "    add_generation_prompt = True, # Must add for generation\n",
    ")\n",
    "\n",
    "\n",
    "outputs = model.generate(\n",
    "    **tokenizer([text], return_tensors = \"pt\").to(\"cuda\"),\n",
    "    max_new_tokens = 120, # Increase for longer outputs!\n",
    "    # Recommended Gemma-3 settings!\n",
    "    temperature = 0.01, top_p = 0.95, top_k = 64,\n",
    ")\n",
    "\n",
    "output  = tokenizer.batch_decode(outputs)[0]\n",
    "print(output)\n",
    "\n",
    "from decode import decode_from_morse\n",
    "\n",
    "import re\n",
    "\n",
    "match = re.search(r'<start_of_turn>model\\n(.*?)<end_of_turn>', output, re.DOTALL)\n",
    "if match:\n",
    "    result = match.group(1)\n",
    "    #print(result)\n",
    "    print(decode_from_morse(result))\n",
    "else:\n",
    "    print(\"No match found.\")\n",
    "    "
   ]
  },
  {
   "cell_type": "code",
   "execution_count": 20,
   "id": "161515cf",
   "metadata": {},
   "outputs": [],
   "source": [
    "#model.save_pretrained(\"gemma-3-1b-sos\")  # Local saving\n",
    "#tokenizer.save_pretrained(\"gemma-3-1b-sos\")"
   ]
  },
  {
   "cell_type": "code",
   "execution_count": null,
   "id": "57cef267",
   "metadata": {},
   "outputs": [
    {
     "ename": "NotImplementedError",
     "evalue": "Unsloth: llama.cpp GGUF conversion does not yet support converting model types of `Gemma3ForCausalLM`.",
     "output_type": "error",
     "traceback": [
      "\u001b[31m---------------------------------------------------------------------------\u001b[39m",
      "\u001b[31mNotImplementedError\u001b[39m                       Traceback (most recent call last)",
      "\u001b[36mCell\u001b[39m\u001b[36m \u001b[39m\u001b[32mIn[39]\u001b[39m\u001b[32m, line 5\u001b[39m\n\u001b[32m      1\u001b[39m \u001b[38;5;28;01mif\u001b[39;00m \u001b[38;5;28;01mTrue\u001b[39;00m: \u001b[38;5;66;03m# Change to True to save finetune!\u001b[39;00m\n\u001b[32m      2\u001b[39m     \u001b[38;5;66;03m#model.save_pretrained_merged(\"gemma-3-finetune2\", tokenizer, save_method = \"merged_4bit\")\u001b[39;00m\n\u001b[32m      3\u001b[39m     \u001b[38;5;66;03m#odel.save_pretrained_merged(\"merged_model\", tokenizer, save_method = \"merged_16bit\",)\u001b[39;00m\n\u001b[32m      4\u001b[39m     \u001b[38;5;66;03m#odel.save_pretrained_gguf(\"dir\", tokenizer, quantization_method = \"Q8_0\")\u001b[39;00m\n\u001b[32m----> \u001b[39m\u001b[32m5\u001b[39m     \u001b[43mmodel\u001b[49m\u001b[43m.\u001b[49m\u001b[43mpush_to_hub_gguf\u001b[49m\u001b[43m(\u001b[49m\u001b[33;43m\"\u001b[39;49m\u001b[33;43mphilipfourie/gemma-3-finetune\u001b[39;49m\u001b[33;43m\"\u001b[39;49m\u001b[43m,\u001b[49m\u001b[43m  \u001b[49m\u001b[43mquantization_type\u001b[49m\u001b[43m \u001b[49m\u001b[43m=\u001b[49m\u001b[33;43m\"\u001b[39;49m\u001b[33;43mq8_0\u001b[39;49m\u001b[33;43m\"\u001b[39;49m\u001b[43m)\u001b[49m\n",
      "\u001b[36mFile \u001b[39m\u001b[32m~/dev/testj/.venv/lib/python3.12/site-packages/torch/utils/_contextlib.py:116\u001b[39m, in \u001b[36mcontext_decorator.<locals>.decorate_context\u001b[39m\u001b[34m(*args, **kwargs)\u001b[39m\n\u001b[32m    113\u001b[39m \u001b[38;5;129m@functools\u001b[39m.wraps(func)\n\u001b[32m    114\u001b[39m \u001b[38;5;28;01mdef\u001b[39;00m\u001b[38;5;250m \u001b[39m\u001b[34mdecorate_context\u001b[39m(*args, **kwargs):\n\u001b[32m    115\u001b[39m     \u001b[38;5;28;01mwith\u001b[39;00m ctx_factory():\n\u001b[32m--> \u001b[39m\u001b[32m116\u001b[39m         \u001b[38;5;28;01mreturn\u001b[39;00m \u001b[43mfunc\u001b[49m\u001b[43m(\u001b[49m\u001b[43m*\u001b[49m\u001b[43margs\u001b[49m\u001b[43m,\u001b[49m\u001b[43m \u001b[49m\u001b[43m*\u001b[49m\u001b[43m*\u001b[49m\u001b[43mkwargs\u001b[49m\u001b[43m)\u001b[49m\n",
      "\u001b[36mFile \u001b[39m\u001b[32m~/dev/testj/.venv/lib/python3.12/site-packages/unsloth/save.py:2246\u001b[39m, in \u001b[36msave_to_gguf_generic\u001b[39m\u001b[34m(model, save_directory, quantization_type, repo_id, token)\u001b[39m\n\u001b[32m   2243\u001b[39m     install_llama_cpp(just_clone_repo = \u001b[38;5;28;01mTrue\u001b[39;00m)\n\u001b[32m   2244\u001b[39m \u001b[38;5;28;01mpass\u001b[39;00m\n\u001b[32m-> \u001b[39m\u001b[32m2246\u001b[39m metadata = \u001b[43m_convert_to_gguf\u001b[49m\u001b[43m(\u001b[49m\n\u001b[32m   2247\u001b[39m \u001b[43m    \u001b[49m\u001b[43msave_directory\u001b[49m\u001b[43m,\u001b[49m\n\u001b[32m   2248\u001b[39m \u001b[43m    \u001b[49m\u001b[43mprint_output\u001b[49m\u001b[43m \u001b[49m\u001b[43m=\u001b[49m\u001b[43m \u001b[49m\u001b[38;5;28;43;01mTrue\u001b[39;49;00m\u001b[43m,\u001b[49m\n\u001b[32m   2249\u001b[39m \u001b[43m    \u001b[49m\u001b[43mquantization_type\u001b[49m\u001b[43m \u001b[49m\u001b[43m=\u001b[49m\u001b[43m \u001b[49m\u001b[43mquantization_type\u001b[49m\u001b[43m,\u001b[49m\n\u001b[32m   2250\u001b[39m \u001b[43m\u001b[49m\u001b[43m)\u001b[49m\n\u001b[32m   2251\u001b[39m \u001b[38;5;28;01mif\u001b[39;00m repo_id \u001b[38;5;129;01mis\u001b[39;00m \u001b[38;5;129;01mnot\u001b[39;00m \u001b[38;5;28;01mNone\u001b[39;00m:\n\u001b[32m   2252\u001b[39m     prepare_saving(\n\u001b[32m   2253\u001b[39m         model,\n\u001b[32m   2254\u001b[39m         repo_id,\n\u001b[32m   (...)\u001b[39m\u001b[32m   2258\u001b[39m         token = token,\n\u001b[32m   2259\u001b[39m     )\n",
      "\u001b[36mFile \u001b[39m\u001b[32m~/dev/testj/.venv/lib/python3.12/site-packages/unsloth_zoo/llama_cpp.py:659\u001b[39m, in \u001b[36mconvert_to_gguf\u001b[39m\u001b[34m(input_folder, output_filename, quantization_type, max_shard_size, print_output, print_outputs)\u001b[39m\n\u001b[32m    657\u001b[39m arch = config_file[\u001b[33m\"\u001b[39m\u001b[33marchitectures\u001b[39m\u001b[33m\"\u001b[39m][\u001b[32m0\u001b[39m]\n\u001b[32m    658\u001b[39m \u001b[38;5;28;01mif\u001b[39;00m arch \u001b[38;5;129;01mnot\u001b[39;00m \u001b[38;5;129;01min\u001b[39;00m supported_types:\n\u001b[32m--> \u001b[39m\u001b[32m659\u001b[39m     \u001b[38;5;28;01mraise\u001b[39;00m \u001b[38;5;167;01mNotImplementedError\u001b[39;00m(\n\u001b[32m    660\u001b[39m         \u001b[33mf\u001b[39m\u001b[33m\"\u001b[39m\u001b[33mUnsloth: llama.cpp GGUF conversion does not yet support \u001b[39m\u001b[33m\"\u001b[39m\\\n\u001b[32m    661\u001b[39m         \u001b[33mf\u001b[39m\u001b[33m\"\u001b[39m\u001b[33mconverting model types of `\u001b[39m\u001b[38;5;132;01m{\u001b[39;00march\u001b[38;5;132;01m}\u001b[39;00m\u001b[33m`.\u001b[39m\u001b[33m\"\u001b[39m\n\u001b[32m    662\u001b[39m     )\n\u001b[32m    663\u001b[39m \u001b[38;5;28;01mpass\u001b[39;00m\n\u001b[32m    665\u001b[39m \u001b[38;5;66;03m# Get arguments\u001b[39;00m\n",
      "\u001b[31mNotImplementedError\u001b[39m: Unsloth: llama.cpp GGUF conversion does not yet support converting model types of `Gemma3ForCausalLM`."
     ]
    }
   ],
   "source": [
    "if False: # Change to True to save finetune!\n",
    "    #model.save_pretrained_merged(\"gemma-3-finetune2\", tokenizer, save_method = \"merged_4bit\")\n",
    "    #odel.save_pretrained_merged(\"merged_model\", tokenizer, save_method = \"merged_16bit\",)\n",
    "    #odel.save_pretrained_gguf(\"dir\", tokenizer, quantization_method = \"Q8_0\")\n",
    "    model.push_to_hub_gguf(\"philipfourie/gemma-3-finetune\",  quantization_type =\"q8_0\")"
   ]
  },
  {
   "cell_type": "code",
   "execution_count": null,
   "id": "6b2ecc0d",
   "metadata": {},
   "outputs": [],
   "source": [
    "if False: # Change to True to upload finetune\n",
    "    model.push_to_hub_merged(\n",
    "        \"philipfourie/gemma-3-1b-morse-code\", tokenizer,\n",
    "    )"
   ]
  },
  {
   "cell_type": "code",
   "execution_count": null,
   "id": "83f178ab",
   "metadata": {},
   "outputs": [],
   "source": [
    "# model.save_pretrained_gguf(\n",
    "#     \"gemma-3-1b-morse-code\",\n",
    "#     quantization_type = \"Q8_0\", # For now only Q8_0, BF16, F16 supported\n",
    "# )"
   ]
  },
  {
   "cell_type": "code",
   "execution_count": null,
   "id": "641a312c",
   "metadata": {},
   "outputs": [],
   "source": [
    "if False: # Change to True to upload GGUF\n",
    "    model.push_to_hub_gguf(\n",
    "        #\"gemma-3-1b-morse-code\",\n",
    "        quantization_type = \"Q8_0\", # Only Q8_0, BF16, F16 supported\n",
    "        repo_id = \"philipfourie/gemma-3-1b-morse-code\"\n",
    "    )"
   ]
  }
 ],
 "metadata": {
  "kernelspec": {
   "display_name": ".venv",
   "language": "python",
   "name": "python3"
  },
  "language_info": {
   "codemirror_mode": {
    "name": "ipython",
    "version": 3
   },
   "file_extension": ".py",
   "mimetype": "text/x-python",
   "name": "python",
   "nbconvert_exporter": "python",
   "pygments_lexer": "ipython3",
   "version": "3.12.10"
  }
 },
 "nbformat": 4,
 "nbformat_minor": 5
}
