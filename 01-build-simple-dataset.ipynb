{
 "cells": [
  {
   "cell_type": "markdown",
   "id": "89fc7924",
   "metadata": {},
   "source": [
    "# Build a simple data set\n",
    "This notebook downloads Taylor Swift lyrics from Hugging Face and builds a simple dataset for training a language model."
   ]
  },
  {
   "cell_type": "code",
   "execution_count": 1,
   "id": "4b6147ae",
   "metadata": {},
   "outputs": [],
   "source": [
    "from datasets import load_dataset\n",
    "ds = load_dataset(\"huggingartists/taylor-swift\")"
   ]
  },
  {
   "cell_type": "code",
   "execution_count": 2,
   "id": "6819c69a",
   "metadata": {},
   "outputs": [
    {
     "data": {
      "text/html": [
       "<div>\n",
       "<style scoped>\n",
       "    .dataframe tbody tr th:only-of-type {\n",
       "        vertical-align: middle;\n",
       "    }\n",
       "\n",
       "    .dataframe tbody tr th {\n",
       "        vertical-align: top;\n",
       "    }\n",
       "\n",
       "    .dataframe thead th {\n",
       "        text-align: right;\n",
       "    }\n",
       "</style>\n",
       "<table border=\"1\" class=\"dataframe\">\n",
       "  <thead>\n",
       "    <tr style=\"text-align: right;\">\n",
       "      <th></th>\n",
       "      <th>text</th>\n",
       "    </tr>\n",
       "  </thead>\n",
       "  <tbody>\n",
       "    <tr>\n",
       "      <th>0</th>\n",
       "      <td>Car rides to Malibu\\nStrawberry ice cream, one...</td>\n",
       "    </tr>\n",
       "    <tr>\n",
       "      <th>1</th>\n",
       "      <td>Vintage tee, brand new phone\\nHigh heels on co...</td>\n",
       "    </tr>\n",
       "    <tr>\n",
       "      <th>2</th>\n",
       "      <td>I can see you standing, honey\\nWith his arms a...</td>\n",
       "    </tr>\n",
       "    <tr>\n",
       "      <th>3</th>\n",
       "      <td>We could leave the Christmas lights up til Jan...</td>\n",
       "    </tr>\n",
       "    <tr>\n",
       "      <th>4</th>\n",
       "      <td>Im doing good, Im on some new shit\\nBeen sayin...</td>\n",
       "    </tr>\n",
       "    <tr>\n",
       "      <th>5</th>\n",
       "      <td>I dont like your little games\\nDont like your ...</td>\n",
       "    </tr>\n",
       "    <tr>\n",
       "      <th>6</th>\n",
       "      <td>Betty, I wont make assumptions\\nAbout why you ...</td>\n",
       "    </tr>\n",
       "  </tbody>\n",
       "</table>\n",
       "</div>"
      ],
      "text/plain": [
       "                                                text\n",
       "0  Car rides to Malibu\\nStrawberry ice cream, one...\n",
       "1  Vintage tee, brand new phone\\nHigh heels on co...\n",
       "2  I can see you standing, honey\\nWith his arms a...\n",
       "3  We could leave the Christmas lights up til Jan...\n",
       "4  Im doing good, Im on some new shit\\nBeen sayin...\n",
       "5  I dont like your little games\\nDont like your ...\n",
       "6  Betty, I wont make assumptions\\nAbout why you ..."
      ]
     },
     "execution_count": 2,
     "metadata": {},
     "output_type": "execute_result"
    }
   ],
   "source": [
    "df = ds[\"train\"].to_pandas()\n",
    "df.head(7)"
   ]
  },
  {
   "cell_type": "code",
   "execution_count": 3,
   "id": "4b74be9d",
   "metadata": {},
   "outputs": [],
   "source": [
    "import unicodedata\n",
    "\n",
    "def normalize_text(text):\n",
    "    # Normalize to NFKD form which separates characters from their diacritics\n",
    "    normalized = unicodedata.normalize('NFKD', text)\n",
    "    # Filter out combining characters (accents, etc.)\n",
    "    ascii_text = ''.join([c for c in normalized if not unicodedata.combining(c)])\n",
    "    return ascii_text"
   ]
  },
  {
   "cell_type": "code",
   "execution_count": 4,
   "id": "72d96c5a",
   "metadata": {},
   "outputs": [],
   "source": [
    "from encode import encode_to_morse\n",
    "\n",
    "def apply_encoding(batch):\n",
    "    lines = []\n",
    "    morse = []\n",
    "\n",
    "    for text in batch[\"text\"]:\n",
    "        split_lines = text.split(\"\\n\")\n",
    "        lines.extend(split_lines)\n",
    "        morse.extend([encode_to_morse(normalize_text(line), skip_unknown=True) for line in split_lines])\n",
    "\n",
    "    return {\n",
    "        \"line\": lines,\n",
    "        \"morse\": morse\n",
    "    }\n"
   ]
  },
  {
   "cell_type": "code",
   "execution_count": 5,
   "id": "cd33f015",
   "metadata": {},
   "outputs": [
    {
     "data": {
      "text/html": [
       "<div>\n",
       "<style scoped>\n",
       "    .dataframe tbody tr th:only-of-type {\n",
       "        vertical-align: middle;\n",
       "    }\n",
       "\n",
       "    .dataframe tbody tr th {\n",
       "        vertical-align: top;\n",
       "    }\n",
       "\n",
       "    .dataframe thead th {\n",
       "        text-align: right;\n",
       "    }\n",
       "</style>\n",
       "<table border=\"1\" class=\"dataframe\">\n",
       "  <thead>\n",
       "    <tr style=\"text-align: right;\">\n",
       "      <th></th>\n",
       "      <th>line</th>\n",
       "      <th>morse</th>\n",
       "    </tr>\n",
       "  </thead>\n",
       "  <tbody>\n",
       "    <tr>\n",
       "      <th>0</th>\n",
       "      <td>Car rides to Malibu</td>\n",
       "      <td>-.-. .- .-. / .-. .. -.. . ... / - --- / -- .-...</td>\n",
       "    </tr>\n",
       "    <tr>\n",
       "      <th>1</th>\n",
       "      <td>Strawberry ice cream, one spoon for two</td>\n",
       "      <td>... - .-. .- .-- -... . .-. .-. -.-- / .. -.-....</td>\n",
       "    </tr>\n",
       "    <tr>\n",
       "      <th>2</th>\n",
       "      <td>And tradin jackets</td>\n",
       "      <td>.- -. -.. / - .-. .- -.. .. -. / .--- .- -.-. ...</td>\n",
       "    </tr>\n",
       "    <tr>\n",
       "      <th>3</th>\n",
       "      <td>Laughin’ bout how small it looks on you</td>\n",
       "      <td>.-.. .- ..- --. .... .. -. / -... --- ..- - / ...</td>\n",
       "    </tr>\n",
       "    <tr>\n",
       "      <th>4</th>\n",
       "      <td>Watching reruns of Glee</td>\n",
       "      <td>.-- .- - -.-. .... .. -. --. / .-. . .-. ..- -...</td>\n",
       "    </tr>\n",
       "    <tr>\n",
       "      <th>...</th>\n",
       "      <td>...</td>\n",
       "      <td>...</td>\n",
       "    </tr>\n",
       "    <tr>\n",
       "      <th>33715</th>\n",
       "      <td>I just wanna keep calling your name until you ...</td>\n",
       "      <td>.. / .--- ..- ... - / .-- .- -. -. .- / -.- . ...</td>\n",
       "    </tr>\n",
       "    <tr>\n",
       "      <th>33716</th>\n",
       "      <td>I just wanna keep calling your name until you ...</td>\n",
       "      <td>.. / .--- ..- ... - / .-- .- -. -. .- / -.- . ...</td>\n",
       "    </tr>\n",
       "    <tr>\n",
       "      <th>33717</th>\n",
       "      <td>I just wanna keep calling your name until you ...</td>\n",
       "      <td>.. / .--- ..- ... - / .-- .- -. -. .- / -.- . ...</td>\n",
       "    </tr>\n",
       "    <tr>\n",
       "      <th>33718</th>\n",
       "      <td>I just wanna keep calling your name until you ...</td>\n",
       "      <td>.. / .--- ..- ... - / .-- .- -. -. .- / -.- . ...</td>\n",
       "    </tr>\n",
       "    <tr>\n",
       "      <th>33719</th>\n",
       "      <td>Until you come back home</td>\n",
       "      <td>..- -. - .. .-.. / -.-- --- ..- / -.-. --- -- ...</td>\n",
       "    </tr>\n",
       "  </tbody>\n",
       "</table>\n",
       "<p>33720 rows × 2 columns</p>\n",
       "</div>"
      ],
      "text/plain": [
       "                                                    line  \\\n",
       "0                                    Car rides to Malibu   \n",
       "1                Strawberry ice cream, one spoon for two   \n",
       "2                                     And tradin jackets   \n",
       "3                Laughin’ bout how small it looks on you   \n",
       "4                                Watching reruns of Glee   \n",
       "...                                                  ...   \n",
       "33715  I just wanna keep calling your name until you ...   \n",
       "33716  I just wanna keep calling your name until you ...   \n",
       "33717  I just wanna keep calling your name until you ...   \n",
       "33718  I just wanna keep calling your name until you ...   \n",
       "33719                           Until you come back home   \n",
       "\n",
       "                                                   morse  \n",
       "0      -.-. .- .-. / .-. .. -.. . ... / - --- / -- .-...  \n",
       "1      ... - .-. .- .-- -... . .-. .-. -.-- / .. -.-....  \n",
       "2      .- -. -.. / - .-. .- -.. .. -. / .--- .- -.-. ...  \n",
       "3      .-.. .- ..- --. .... .. -. / -... --- ..- - / ...  \n",
       "4      .-- .- - -.-. .... .. -. --. / .-. . .-. ..- -...  \n",
       "...                                                  ...  \n",
       "33715  .. / .--- ..- ... - / .-- .- -. -. .- / -.- . ...  \n",
       "33716  .. / .--- ..- ... - / .-- .- -. -. .- / -.- . ...  \n",
       "33717  .. / .--- ..- ... - / .-- .- -. -. .- / -.- . ...  \n",
       "33718  .. / .--- ..- ... - / .-- .- -. -. .- / -.- . ...  \n",
       "33719  ..- -. - .. .-.. / -.-- --- ..- / -.-. --- -- ...  \n",
       "\n",
       "[33720 rows x 2 columns]"
      ]
     },
     "execution_count": 5,
     "metadata": {},
     "output_type": "execute_result"
    }
   ],
   "source": [
    "new_ds = ds.map(apply_encoding, remove_columns=\"text\", batched=True)\n",
    "new_ds[\"train\"].to_pandas()"
   ]
  },
  {
   "cell_type": "code",
   "execution_count": 6,
   "id": "54f4e371",
   "metadata": {},
   "outputs": [
    {
     "data": {
      "text/html": [
       "<div>\n",
       "<style scoped>\n",
       "    .dataframe tbody tr th:only-of-type {\n",
       "        vertical-align: middle;\n",
       "    }\n",
       "\n",
       "    .dataframe tbody tr th {\n",
       "        vertical-align: top;\n",
       "    }\n",
       "\n",
       "    .dataframe thead th {\n",
       "        text-align: right;\n",
       "    }\n",
       "</style>\n",
       "<table border=\"1\" class=\"dataframe\">\n",
       "  <thead>\n",
       "    <tr style=\"text-align: right;\">\n",
       "      <th></th>\n",
       "      <th>line</th>\n",
       "      <th>morse</th>\n",
       "    </tr>\n",
       "  </thead>\n",
       "  <tbody>\n",
       "    <tr>\n",
       "      <th>0</th>\n",
       "      <td>Car rides to Malibu</td>\n",
       "      <td>-.-. .- .-. / .-. .. -.. . ... / - --- / -- .-...</td>\n",
       "    </tr>\n",
       "    <tr>\n",
       "      <th>1</th>\n",
       "      <td>Strawberry ice cream, one spoon for two</td>\n",
       "      <td>... - .-. .- .-- -... . .-. .-. -.-- / .. -.-....</td>\n",
       "    </tr>\n",
       "    <tr>\n",
       "      <th>2</th>\n",
       "      <td>And tradin jackets</td>\n",
       "      <td>.- -. -.. / - .-. .- -.. .. -. / .--- .- -.-. ...</td>\n",
       "    </tr>\n",
       "    <tr>\n",
       "      <th>3</th>\n",
       "      <td>Laughin’ bout how small it looks on you</td>\n",
       "      <td>.-.. .- ..- --. .... .. -. / -... --- ..- - / ...</td>\n",
       "    </tr>\n",
       "    <tr>\n",
       "      <th>4</th>\n",
       "      <td>Watching reruns of Glee</td>\n",
       "      <td>.-- .- - -.-. .... .. -. --. / .-. . .-. ..- -...</td>\n",
       "    </tr>\n",
       "    <tr>\n",
       "      <th>...</th>\n",
       "      <td>...</td>\n",
       "      <td>...</td>\n",
       "    </tr>\n",
       "    <tr>\n",
       "      <th>15684</th>\n",
       "      <td>Vas-tu chuchoter doucement et lentement ?</td>\n",
       "      <td>...- .- ... -....- - ..- / -.-. .... ..- -.-. ...</td>\n",
       "    </tr>\n",
       "    <tr>\n",
       "      <th>15685</th>\n",
       "      <td>Je suis captivée par toi, bébé, comme le feu d...</td>\n",
       "      <td>.--- . / ... ..- .. ... / -.-. .- .--. - .. .....</td>\n",
       "    </tr>\n",
       "    <tr>\n",
       "      <th>15686</th>\n",
       "      <td>Et les étincelles volent</td>\n",
       "      <td>. - / .-.. . ... / . - .. -. -.-. . .-.. .-.. ...</td>\n",
       "    </tr>\n",
       "    <tr>\n",
       "      <th>15687</th>\n",
       "      <td>Oh, bébé, souris</td>\n",
       "      <td>--- .... --..-- / -... . -... . --..-- / ... -...</td>\n",
       "    </tr>\n",
       "    <tr>\n",
       "      <th>15688</th>\n",
       "      <td>Wondering if I dodgеd a bullet or just lost th...</td>\n",
       "      <td>.-- --- -. -.. . .-. .. -. --. / .. ..-. / .. ...</td>\n",
       "    </tr>\n",
       "  </tbody>\n",
       "</table>\n",
       "<p>15689 rows × 2 columns</p>\n",
       "</div>"
      ],
      "text/plain": [
       "                                                    line  \\\n",
       "0                                    Car rides to Malibu   \n",
       "1                Strawberry ice cream, one spoon for two   \n",
       "2                                     And tradin jackets   \n",
       "3                Laughin’ bout how small it looks on you   \n",
       "4                                Watching reruns of Glee   \n",
       "...                                                  ...   \n",
       "15684          Vas-tu chuchoter doucement et lentement ?   \n",
       "15685  Je suis captivée par toi, bébé, comme le feu d...   \n",
       "15686                           Et les étincelles volent   \n",
       "15687                                   Oh, bébé, souris   \n",
       "15688  Wondering if I dodgеd a bullet or just lost th...   \n",
       "\n",
       "                                                   morse  \n",
       "0      -.-. .- .-. / .-. .. -.. . ... / - --- / -- .-...  \n",
       "1      ... - .-. .- .-- -... . .-. .-. -.-- / .. -.-....  \n",
       "2      .- -. -.. / - .-. .- -.. .. -. / .--- .- -.-. ...  \n",
       "3      .-.. .- ..- --. .... .. -. / -... --- ..- - / ...  \n",
       "4      .-- .- - -.-. .... .. -. --. / .-. . .-. ..- -...  \n",
       "...                                                  ...  \n",
       "15684  ...- .- ... -....- - ..- / -.-. .... ..- -.-. ...  \n",
       "15685  .--- . / ... ..- .. ... / -.-. .- .--. - .. .....  \n",
       "15686  . - / .-.. . ... / . - .. -. -.-. . .-.. .-.. ...  \n",
       "15687  --- .... --..-- / -... . -... . --..-- / ... -...  \n",
       "15688  .-- --- -. -.. . .-. .. -. --. / .. ..-. / .. ...  \n",
       "\n",
       "[15689 rows x 2 columns]"
      ]
     },
     "execution_count": 6,
     "metadata": {},
     "output_type": "execute_result"
    }
   ],
   "source": [
    "import pandas as pd\n",
    "from datasets import Dataset\n",
    "\n",
    "# Convert Dataset to pandas DataFrame\n",
    "df = new_ds[\"train\"].to_pandas()\n",
    "\n",
    "# Drop duplicates (across all columns, or specify subset)\n",
    "df = df.drop_duplicates()  # Or: df.drop_duplicates(subset=[\"line\"])\n",
    "\n",
    "# Convert back to Hugging Face Dataset\n",
    "deduped_dataset = Dataset.from_pandas(df, preserve_index=False)\n",
    "\n",
    "deduped_dataset.to_pandas()"
   ]
  },
  {
   "cell_type": "code",
   "execution_count": 7,
   "id": "f86a9eac",
   "metadata": {},
   "outputs": [
    {
     "name": "stdout",
     "output_type": "stream",
     "text": [
      "{'line': 'Oh, bébé, souris', 'morse': '--- .... --..-- / -... . -... . --..-- / ... --- ..- .-. .. ...'}\n",
      "OH, BEBE, SOURIS\n"
     ]
    }
   ],
   "source": [
    "# Test if special are normalized\n",
    "from decode import decode_from_morse\n",
    "\n",
    "print(deduped_dataset[15687])\n",
    "print(decode_from_morse(deduped_dataset[15687][\"morse\"]))\n"
   ]
  },
  {
   "cell_type": "markdown",
   "id": "8179f098",
   "metadata": {},
   "source": [
    "Change this to your Hugging Face repository if needed"
   ]
  },
  {
   "cell_type": "code",
   "execution_count": 8,
   "id": "44368dac",
   "metadata": {},
   "outputs": [
    {
     "data": {
      "application/vnd.jupyter.widget-view+json": {
       "model_id": "907f62d7f1a54272aae3ee14345f54ce",
       "version_major": 2,
       "version_minor": 0
      },
      "text/plain": [
       "Uploading the dataset shards:   0%|          | 0/1 [00:00<?, ?it/s]"
      ]
     },
     "metadata": {},
     "output_type": "display_data"
    },
    {
     "data": {
      "application/vnd.jupyter.widget-view+json": {
       "model_id": "12bb344a6e6449c6a8b8210c87e7f27b",
       "version_major": 2,
       "version_minor": 0
      },
      "text/plain": [
       "Creating parquet from Arrow format:   0%|          | 0/16 [00:00<?, ?ba/s]"
      ]
     },
     "metadata": {},
     "output_type": "display_data"
    },
    {
     "data": {
      "application/vnd.jupyter.widget-view+json": {
       "model_id": "da311a364f4c4aac83b99f8221b9d96c",
       "version_major": 2,
       "version_minor": 0
      },
      "text/plain": [
       "README.md:   0%|          | 0.00/311 [00:00<?, ?B/s]"
      ]
     },
     "metadata": {},
     "output_type": "display_data"
    },
    {
     "data": {
      "text/plain": [
       "CommitInfo(commit_url='https://huggingface.co/datasets/philipfourie/morse-taylor-swift/commit/2ae28a792c9b92c2e3eae5a3f5fea5471b5a45ae', commit_message='Upload dataset', commit_description='', oid='2ae28a792c9b92c2e3eae5a3f5fea5471b5a45ae', pr_url=None, repo_url=RepoUrl('https://huggingface.co/datasets/philipfourie/morse-taylor-swift', endpoint='https://huggingface.co', repo_type='dataset', repo_id='philipfourie/morse-taylor-swift'), pr_revision=None, pr_num=None)"
      ]
     },
     "execution_count": 8,
     "metadata": {},
     "output_type": "execute_result"
    }
   ],
   "source": [
    "deduped_dataset.push_to_hub(\"philipfourie/morse-taylor-swift\")"
   ]
  },
  {
   "cell_type": "code",
   "execution_count": null,
   "id": "fec64a81",
   "metadata": {},
   "outputs": [],
   "source": []
  }
 ],
 "metadata": {
  "kernelspec": {
   "display_name": ".venv",
   "language": "python",
   "name": "python3"
  },
  "language_info": {
   "codemirror_mode": {
    "name": "ipython",
    "version": 3
   },
   "file_extension": ".py",
   "mimetype": "text/x-python",
   "name": "python",
   "nbconvert_exporter": "python",
   "pygments_lexer": "ipython3",
   "version": "3.12.10"
  }
 },
 "nbformat": 4,
 "nbformat_minor": 5
}
