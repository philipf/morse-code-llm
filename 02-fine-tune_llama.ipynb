{
 "cells": [
  {
   "cell_type": "markdown",
   "id": "bf252ab3",
   "metadata": {},
   "source": [
    "Based one\n",
    "\n",
    "https://colab.research.google.com/github/unslothai/notebooks/blob/main/nb/Gemma3_(4B).ipynb"
   ]
  },
  {
   "cell_type": "code",
   "execution_count": 1,
   "id": "d88c649a",
   "metadata": {},
   "outputs": [
    {
     "name": "stdout",
     "output_type": "stream",
     "text": [
      "🦥 Unsloth: Will patch your computer to enable 2x faster free finetuning.\n",
      "Unsloth: Failed to patch Gemma3ForConditionalGeneration.\n",
      "🦥 Unsloth Zoo will now patch everything to make training faster!\n",
      "==((====))==  Unsloth 2025.3.19: Fast Llama patching. Transformers: 4.51.3.\n",
      "   \\\\   /|    Quadro RTX 5000. Num GPUs = 1. Max memory: 16.0 GB. Platform: Linux.\n",
      "O^O/ \\_/ \\    Torch: 2.6.0+cu124. CUDA: 7.5. CUDA Toolkit: 12.4. Triton: 3.2.0\n",
      "\\        /    Bfloat16 = FALSE. FA [Xformers = 0.0.29.post3. FA2 = False]\n",
      " \"-____-\"     Free license: http://github.com/unslothai/unsloth\n",
      "Unsloth: Fast downloading is enabled - ignore downloading bars which are red colored!\n"
     ]
    }
   ],
   "source": [
    "from unsloth import FastLanguageModel\n",
    "import torch\n",
    "max_seq_length = 1024 # Choose any! We auto support RoPE Scaling internally!\n",
    "dtype = torch.float16 # None for auto detection. Float16 for Tesla T4, V100, Bfloat16 for Ampere+\n",
    "load_in_4bit = False # Use 4bit quantization to reduce memory usage. Can be False.\n",
    "\n",
    "# More models at https://huggingface.co/unsloth\n",
    "\n",
    "model, tokenizer = FastLanguageModel.from_pretrained(\n",
    "    #model_name = \"unsloth/Llama-3.2-1B-bnb-4bit\", # or choose \"unsloth/Llama-3.2-1B-Instruct\"\n",
    "    model_name = \"meta-llama/Llama-3.2-3B\",\n",
    "    max_seq_length = max_seq_length,\n",
    "    dtype = dtype,\n",
    "    load_in_4bit = load_in_4bit,\n",
    ")\n",
    "\n",
    "# num_added_toks = tokenizer.add_tokens(['<|space|>'], special_tokens=True) ##This line is updated\n",
    "# model.resize_token_embeddings(len(tokenizer))\n",
    "\n"
   ]
  },
  {
   "cell_type": "markdown",
   "id": "f5e23a59",
   "metadata": {},
   "source": [
    "## Load LoRA adapters"
   ]
  },
  {
   "cell_type": "code",
   "execution_count": 2,
   "id": "e82a108c",
   "metadata": {},
   "outputs": [
    {
     "name": "stderr",
     "output_type": "stream",
     "text": [
      "Unsloth 2025.3.19 patched 28 layers with 28 QKV layers, 28 O layers and 28 MLP layers.\n"
     ]
    }
   ],
   "source": [
    "model = FastLanguageModel.get_peft_model(\n",
    "    model,\n",
    "    r = 8, # Choose any number > 0 ! Suggested 8, 16, 32, 64, 128\n",
    "\n",
    "    #https://docs.unsloth.ai/basics/continued-pretraining#continued-pretraining-and-finetuning-the-lm_head-and-embed_tokens-matrices\n",
    "    target_modules = [\"q_proj\", \"k_proj\", \"v_proj\", \"o_proj\",\n",
    "                        \"gate_proj\", \"up_proj\", \"down_proj\"],\n",
    "    lora_alpha = 16,\n",
    "    lora_dropout = 0, # Supports any, but = 0 is optimized\n",
    "    bias = \"none\",    # Supports any, but = \"none\" is optimized\n",
    "    # [NEW] \"unsloth\" uses 30% less VRAM, fits 2x larger batch sizes!\n",
    "    use_gradient_checkpointing = \"unsloth\", # True or \"unsloth\" for very long context\n",
    "    random_state = 3407,\n",
    "    use_rslora = False,  # We support rank stabilized LoRA\n",
    "    loftq_config = None, # And LoftQ\n",
    ")"
   ]
  },
  {
   "cell_type": "code",
   "execution_count": 3,
   "id": "03218f65",
   "metadata": {},
   "outputs": [],
   "source": [
    "from unsloth.chat_templates import get_chat_template\n",
    "tokenizer = get_chat_template(\n",
    "    tokenizer,\n",
    "    chat_template = \"llama-3.2\",\n",
    ")"
   ]
  },
  {
   "cell_type": "code",
   "execution_count": 4,
   "id": "c8abbe19",
   "metadata": {},
   "outputs": [
    {
     "data": {
      "text/plain": [
       "Dataset({\n",
       "    features: ['line', 'morse'],\n",
       "    num_rows: 40000\n",
       "})"
      ]
     },
     "execution_count": 4,
     "metadata": {},
     "output_type": "execute_result"
    }
   ],
   "source": [
    "from datasets import load_dataset\n",
    "dataset = load_dataset(\"philipfourie/books3_basic_sentenses_paraphrased-Morse\", split=\"train\").shuffle(seed=3408).select(range(40000)) # Load a small subset of the\n",
    "dataset"
   ]
  },
  {
   "cell_type": "code",
   "execution_count": 5,
   "id": "104ef63f",
   "metadata": {},
   "outputs": [
    {
     "data": {
      "text/plain": [
       "{'line': 'There was rain and then there was modesty to the shipping spirit.',\n",
       " 'morse': '- .... . .-. . / .-- .- ... / .-. .- .. -. / .- -. -.. / - .... . -. / - .... . .-. . / .-- .- ... / -- --- -.. . ... - -.-- / - --- / - .... . / ... .... .. .--. .--. .. -. --. / ... .--. .. .-. .. - .-.-.-'}"
      ]
     },
     "execution_count": 5,
     "metadata": {},
     "output_type": "execute_result"
    }
   ],
   "source": [
    "dataset[0]"
   ]
  },
  {
   "cell_type": "code",
   "execution_count": 6,
   "id": "d17b243c",
   "metadata": {},
   "outputs": [],
   "source": [
    "def apply_conversations(example):\n",
    "    return {\n",
    "        \"conversations\": [\n",
    "            {\n",
    "                \"content\": example[\"line\"], #+ \">>\",\n",
    "                \"role\": \"user\",\n",
    "            },\n",
    "            {\n",
    "                #\"content\": example[\"morse\"].replace(\" \", \"<|space|>\") + tokenizer.eos_token,\n",
    "                \"content\": example[\"morse\"] + tokenizer.eos_token,\n",
    "                \"role\": \"assistant\",\n",
    "            },\n",
    "        ]\n",
    "    }"
   ]
  },
  {
   "cell_type": "code",
   "execution_count": 7,
   "id": "96d64cca",
   "metadata": {},
   "outputs": [
    {
     "data": {
      "text/plain": [
       "Dataset({\n",
       "    features: ['conversations'],\n",
       "    num_rows: 40000\n",
       "})"
      ]
     },
     "execution_count": 7,
     "metadata": {},
     "output_type": "execute_result"
    }
   ],
   "source": [
    "convos = dataset.map(\n",
    "    apply_conversations,\n",
    "    remove_columns = [\"line\", \"morse\"],\n",
    "    #num_proc = 1,\n",
    "    desc = \"Applying conversations\",\n",
    ")\n",
    "convos"
   ]
  },
  {
   "cell_type": "code",
   "execution_count": 8,
   "id": "d83f87fc",
   "metadata": {},
   "outputs": [
    {
     "data": {
      "text/plain": [
       "{'conversations': [{'content': 'There was rain and then there was modesty to the shipping spirit.',\n",
       "   'role': 'user'},\n",
       "  {'content': '- .... . .-. . / .-- .- ... / .-. .- .. -. / .- -. -.. / - .... . -. / - .... . .-. . / .-- .- ... / -- --- -.. . ... - -.-- / - --- / - .... . / ... .... .. .--. .--. .. -. --. / ... .--. .. .-. .. - .-.-.-<|end_of_text|>',\n",
       "   'role': 'assistant'}]}"
      ]
     },
     "execution_count": 8,
     "metadata": {},
     "output_type": "execute_result"
    }
   ],
   "source": [
    "convos[0]"
   ]
  },
  {
   "cell_type": "code",
   "execution_count": 9,
   "id": "6c9f2b15",
   "metadata": {},
   "outputs": [
    {
     "data": {
      "text/plain": [
       "Dataset({\n",
       "    features: ['text'],\n",
       "    num_rows: 40000\n",
       "})"
      ]
     },
     "execution_count": 9,
     "metadata": {},
     "output_type": "execute_result"
    }
   ],
   "source": [
    "def formatting_prompts_func(examples):\n",
    "   convos = examples[\"conversations\"]\n",
    "   texts = [tokenizer.apply_chat_template(convo, tokenize = False, add_generation_prompt = False) for convo in convos]\n",
    "   return { \"text\" : texts, }\n",
    "\n",
    "convos = convos.map(formatting_prompts_func, remove_columns=[\"conversations\"], batched = True)\n",
    "convos"
   ]
  },
  {
   "cell_type": "code",
   "execution_count": 10,
   "id": "da3307c9",
   "metadata": {},
   "outputs": [
    {
     "data": {
      "text/plain": [
       "'<|begin_of_text|><|start_header_id|>system<|end_header_id|>\\n\\nCutting Knowledge Date: December 2023\\nToday Date: 26 July 2024\\n\\n<|eot_id|><|start_header_id|>user<|end_header_id|>\\n\\nThere was rain and then there was modesty to the shipping spirit.<|eot_id|><|start_header_id|>assistant<|end_header_id|>\\n\\n- .... . .-. . / .-- .- ... / .-. .- .. -. / .- -. -.. / - .... . -. / - .... . .-. . / .-- .- ... / -- --- -.. . ... - -.-- / - --- / - .... . / ... .... .. .--. .--. .. -. --. / ... .--. .. .-. .. - .-.-.-<|end_of_text|><|eot_id|>'"
      ]
     },
     "execution_count": 10,
     "metadata": {},
     "output_type": "execute_result"
    }
   ],
   "source": [
    "convos[\"text\"][0]"
   ]
  },
  {
   "cell_type": "code",
   "execution_count": 11,
   "id": "ca42e978",
   "metadata": {},
   "outputs": [],
   "source": [
    "# split the dataset into train and test\n",
    "train_dataset = convos.train_test_split(test_size=0.1, seed=42)[\"train\"]\n",
    "test_dataset = convos.train_test_split(test_size=0.1, seed=42)[\"test\"]\n",
    "\n",
    "convos = None\n",
    "dataset = None"
   ]
  },
  {
   "cell_type": "code",
   "execution_count": 12,
   "id": "0ec0f744",
   "metadata": {},
   "outputs": [],
   "source": [
    "from trl import SFTTrainer, SFTConfig\n",
    "from transformers import TrainingArguments, DataCollatorForSeq2Seq\n",
    "from unsloth import is_bfloat16_supported\n",
    "\n",
    "test_dataset = test_dataset.shuffle(seed=3408).select(range(1000))\n",
    "\n",
    "trainer = SFTTrainer(\n",
    "    model = model,\n",
    "    tokenizer = tokenizer,\n",
    "    train_dataset = train_dataset,\n",
    "    eval_dataset = test_dataset,\n",
    "    max_seq_length = max_seq_length,\n",
    "    #data_collator = DataCollatorForSeq2Seq(tokenizer = tokenizer),\n",
    "    packing = False, # Can make training 5x faster for short sequences.\n",
    "\n",
    "    args = SFTConfig(\n",
    "        dataset_text_field=\"text\",\n",
    "        output_dir=\"outputs\",  # Explicitly set output directory\n",
    "        logging_dir=\"outputs/tensorboard_logs\",  # Subdirectory for TensorBoard logs\n",
    "        per_device_train_batch_size = 1,\n",
    "        gradient_accumulation_steps = 1, # Use GA to mimic batch size!\n",
    "\n",
    "        warmup_steps = 15,\n",
    "        #num_train_epochs = 1, # Set this for 1 full training run.\n",
    "        max_steps = 18301, #1301\n",
    "        #max_steps = 100,\n",
    "        learning_rate = 2e-4, # Reduce to 2e-5 for long training runs\n",
    "        logging_steps=1,  # Log every step for testing\n",
    "        eval_steps=325,  # Enable evaluation logging\n",
    "        eval_strategy=\"steps\",        \n",
    "        \n",
    "        optim = \"adamw_8bit\",\n",
    "        weight_decay = 0.01,\n",
    "        lr_scheduler_type = \"linear\",\n",
    "        seed = 3408,\n",
    "        report_to = \"tensorboard\", # Use this for WandB etc\n",
    "        dataset_num_proc=8,\n",
    "\n",
    "        fp16 = not is_bfloat16_supported(),\n",
    "        bf16 = is_bfloat16_supported(),        \n",
    "    ),\n",
    ")"
   ]
  },
  {
   "cell_type": "code",
   "execution_count": 13,
   "id": "ca78b1b0",
   "metadata": {},
   "outputs": [],
   "source": [
    "from unsloth.chat_templates import train_on_responses_only\n",
    "trainer = train_on_responses_only(\n",
    "    trainer,\n",
    "    instruction_part = \"<|start_header_id|>user<|end_header_id|>\\n\\n\",\n",
    "    response_part = \"<|start_header_id|>assistant<|end_header_id|>\\n\\n\",\n",
    ")"
   ]
  },
  {
   "cell_type": "code",
   "execution_count": 14,
   "id": "04801e5f",
   "metadata": {},
   "outputs": [
    {
     "data": {
      "text/plain": [
       "[128000,\n",
       " 128000,\n",
       " 128006,\n",
       " 9125,\n",
       " 128007,\n",
       " 271,\n",
       " 38766,\n",
       " 1303,\n",
       " 33025,\n",
       " 2696,\n",
       " 25,\n",
       " 6790,\n",
       " 220,\n",
       " 2366,\n",
       " 18,\n",
       " 198,\n",
       " 15724,\n",
       " 2696,\n",
       " 25,\n",
       " 220,\n",
       " 1627,\n",
       " 5887,\n",
       " 220,\n",
       " 2366,\n",
       " 19,\n",
       " 271,\n",
       " 128009,\n",
       " 128006,\n",
       " 882,\n",
       " 128007,\n",
       " 271,\n",
       " 6854,\n",
       " 5127,\n",
       " 1518,\n",
       " 420,\n",
       " 30,\n",
       " 2684,\n",
       " 596,\n",
       " 459,\n",
       " 469,\n",
       " 5636,\n",
       " 1828,\n",
       " 311,\n",
       " 4395,\n",
       " 0,\n",
       " 128009,\n",
       " 128006,\n",
       " 78191,\n",
       " 128007,\n",
       " 271,\n",
       " 12,\n",
       " 12898,\n",
       " 13,\n",
       " 662,\n",
       " 12,\n",
       " 43845,\n",
       " 611,\n",
       " 662,\n",
       " 2564,\n",
       " 12,\n",
       " 662,\n",
       " 662,\n",
       " 14863,\n",
       " 482,\n",
       " 33501,\n",
       " 12730,\n",
       " 43845,\n",
       " 662,\n",
       " 611,\n",
       " 2564,\n",
       " 662,\n",
       " 662,\n",
       " 611,\n",
       " 482,\n",
       " 22666,\n",
       " 5354,\n",
       " 2564,\n",
       " 5354,\n",
       " 313,\n",
       " 497,\n",
       " 611,\n",
       " 482,\n",
       " 22666,\n",
       " 662,\n",
       " 662,\n",
       " 14863,\n",
       " 662,\n",
       " 662,\n",
       " 381,\n",
       " 13,\n",
       " 2564,\n",
       " 611,\n",
       " 662,\n",
       " 12,\n",
       " 43845,\n",
       " 611,\n",
       " 662,\n",
       " 611,\n",
       " 662,\n",
       " 313,\n",
       " 13,\n",
       " 662,\n",
       " 12,\n",
       " 497,\n",
       " 5354,\n",
       " 12,\n",
       " 2564,\n",
       " 611,\n",
       " 43845,\n",
       " 662,\n",
       " 482,\n",
       " 497,\n",
       " 12,\n",
       " 482,\n",
       " 611,\n",
       " 482,\n",
       " 12730,\n",
       " 611,\n",
       " 662,\n",
       " 2564,\n",
       " 12,\n",
       " 662,\n",
       " 662,\n",
       " 14863,\n",
       " 482,\n",
       " 33501,\n",
       " 482,\n",
       " 22666,\n",
       " 5354,\n",
       " 43845,\n",
       " 1198,\n",
       " 13,\n",
       " 482,\n",
       " 12898,\n",
       " 33501,\n",
       " 128001,\n",
       " 128009]"
      ]
     },
     "execution_count": 14,
     "metadata": {},
     "output_type": "execute_result"
    }
   ],
   "source": [
    "trainer.train_dataset[100][\"input_ids\"]"
   ]
  },
  {
   "cell_type": "code",
   "execution_count": 15,
   "id": "e99bb7cd",
   "metadata": {},
   "outputs": [
    {
     "data": {
      "text/plain": [
       "'                                                  -.-..- -. /....-..-. -.-- --- -.. /..... / -...........--.. / -......-...----.... /.- -. /. /.--..-....-... / -.. -..- - / - --- /....-..-. -.-- -...... -. --. -.-.--<|end_of_text|><|eot_id|>'"
      ]
     },
     "execution_count": 15,
     "metadata": {},
     "output_type": "execute_result"
    }
   ],
   "source": [
    "tokenizer.decode([tokenizer.pad_token_id if x == -100 else x for x in trainer.train_dataset[100][\"labels\"]]).replace(tokenizer.pad_token, \" \")"
   ]
  },
  {
   "cell_type": "code",
   "execution_count": 16,
   "id": "b3b3f5e4",
   "metadata": {},
   "outputs": [
    {
     "name": "stdout",
     "output_type": "stream",
     "text": [
      "GPU = Quadro RTX 5000. Max memory = 16.0 GB.\n",
      "6.779 GB of memory reserved.\n"
     ]
    }
   ],
   "source": [
    "gpu_stats = torch.cuda.get_device_properties(0)\n",
    "start_gpu_memory = round(torch.cuda.max_memory_reserved() / 1024 / 1024 / 1024, 3)\n",
    "max_memory = round(gpu_stats.total_memory / 1024 / 1024 / 1024, 3)\n",
    "print(f\"GPU = {gpu_stats.name}. Max memory = {max_memory} GB.\")\n",
    "print(f\"{start_gpu_memory} GB of memory reserved.\")"
   ]
  },
  {
   "cell_type": "code",
   "execution_count": 17,
   "id": "d78028e8",
   "metadata": {},
   "outputs": [
    {
     "name": "stderr",
     "output_type": "stream",
     "text": [
      "==((====))==  Unsloth - 2x faster free finetuning | Num GPUs used = 1\n",
      "   \\\\   /|    Num examples = 36,000 | Num Epochs = 1 | Total steps = 18,301\n",
      "O^O/ \\_/ \\    Batch size per device = 1 | Gradient accumulation steps = 1\n",
      "\\        /    Data Parallel GPUs = 1 | Total batch size (1 x 1 x 1) = 1\n",
      " \"-____-\"     Trainable parameters = 12,156,928/3,224,906,752 (0.38% trained)\n"
     ]
    },
    {
     "data": {
      "text/html": [
       "\n",
       "    <div>\n",
       "      \n",
       "      <progress value='18301' max='18301' style='width:300px; height:20px; vertical-align: middle;'></progress>\n",
       "      [18301/18301 3:13:24, Epoch 0/1]\n",
       "    </div>\n",
       "    <table border=\"1\" class=\"dataframe\">\n",
       "  <thead>\n",
       " <tr style=\"text-align: left;\">\n",
       "      <th>Step</th>\n",
       "      <th>Training Loss</th>\n",
       "      <th>Validation Loss</th>\n",
       "    </tr>\n",
       "  </thead>\n",
       "  <tbody>\n",
       "    <tr>\n",
       "      <td>325</td>\n",
       "      <td>1.654600</td>\n",
       "      <td>1.570968</td>\n",
       "    </tr>\n",
       "    <tr>\n",
       "      <td>650</td>\n",
       "      <td>1.618800</td>\n",
       "      <td>1.426326</td>\n",
       "    </tr>\n",
       "    <tr>\n",
       "      <td>975</td>\n",
       "      <td>1.349700</td>\n",
       "      <td>1.326606</td>\n",
       "    </tr>\n",
       "    <tr>\n",
       "      <td>1300</td>\n",
       "      <td>1.507700</td>\n",
       "      <td>1.286474</td>\n",
       "    </tr>\n",
       "    <tr>\n",
       "      <td>1625</td>\n",
       "      <td>1.132600</td>\n",
       "      <td>1.223945</td>\n",
       "    </tr>\n",
       "    <tr>\n",
       "      <td>1950</td>\n",
       "      <td>1.083600</td>\n",
       "      <td>1.124720</td>\n",
       "    </tr>\n",
       "    <tr>\n",
       "      <td>2275</td>\n",
       "      <td>1.106500</td>\n",
       "      <td>0.843331</td>\n",
       "    </tr>\n",
       "    <tr>\n",
       "      <td>2600</td>\n",
       "      <td>0.335100</td>\n",
       "      <td>0.577531</td>\n",
       "    </tr>\n",
       "    <tr>\n",
       "      <td>2925</td>\n",
       "      <td>0.349800</td>\n",
       "      <td>0.431750</td>\n",
       "    </tr>\n",
       "    <tr>\n",
       "      <td>3250</td>\n",
       "      <td>0.326500</td>\n",
       "      <td>0.375976</td>\n",
       "    </tr>\n",
       "    <tr>\n",
       "      <td>3575</td>\n",
       "      <td>0.221600</td>\n",
       "      <td>0.317976</td>\n",
       "    </tr>\n",
       "    <tr>\n",
       "      <td>3900</td>\n",
       "      <td>0.315000</td>\n",
       "      <td>0.278065</td>\n",
       "    </tr>\n",
       "    <tr>\n",
       "      <td>4225</td>\n",
       "      <td>0.192100</td>\n",
       "      <td>0.265014</td>\n",
       "    </tr>\n",
       "    <tr>\n",
       "      <td>4550</td>\n",
       "      <td>0.287000</td>\n",
       "      <td>0.218743</td>\n",
       "    </tr>\n",
       "    <tr>\n",
       "      <td>4875</td>\n",
       "      <td>0.146500</td>\n",
       "      <td>0.211997</td>\n",
       "    </tr>\n",
       "    <tr>\n",
       "      <td>5200</td>\n",
       "      <td>0.091100</td>\n",
       "      <td>0.193838</td>\n",
       "    </tr>\n",
       "    <tr>\n",
       "      <td>5525</td>\n",
       "      <td>0.110600</td>\n",
       "      <td>0.186059</td>\n",
       "    </tr>\n",
       "    <tr>\n",
       "      <td>5850</td>\n",
       "      <td>0.125200</td>\n",
       "      <td>0.176585</td>\n",
       "    </tr>\n",
       "    <tr>\n",
       "      <td>6175</td>\n",
       "      <td>0.331400</td>\n",
       "      <td>0.164220</td>\n",
       "    </tr>\n",
       "    <tr>\n",
       "      <td>6500</td>\n",
       "      <td>0.207300</td>\n",
       "      <td>0.178399</td>\n",
       "    </tr>\n",
       "    <tr>\n",
       "      <td>6825</td>\n",
       "      <td>0.082400</td>\n",
       "      <td>0.172241</td>\n",
       "    </tr>\n",
       "    <tr>\n",
       "      <td>7150</td>\n",
       "      <td>0.316600</td>\n",
       "      <td>0.159252</td>\n",
       "    </tr>\n",
       "    <tr>\n",
       "      <td>7475</td>\n",
       "      <td>0.118500</td>\n",
       "      <td>0.157695</td>\n",
       "    </tr>\n",
       "    <tr>\n",
       "      <td>7800</td>\n",
       "      <td>0.490600</td>\n",
       "      <td>0.165689</td>\n",
       "    </tr>\n",
       "    <tr>\n",
       "      <td>8125</td>\n",
       "      <td>0.174500</td>\n",
       "      <td>0.137985</td>\n",
       "    </tr>\n",
       "    <tr>\n",
       "      <td>8450</td>\n",
       "      <td>0.111300</td>\n",
       "      <td>0.140118</td>\n",
       "    </tr>\n",
       "    <tr>\n",
       "      <td>8775</td>\n",
       "      <td>0.141400</td>\n",
       "      <td>0.137458</td>\n",
       "    </tr>\n",
       "    <tr>\n",
       "      <td>9100</td>\n",
       "      <td>0.150200</td>\n",
       "      <td>0.134815</td>\n",
       "    </tr>\n",
       "    <tr>\n",
       "      <td>9425</td>\n",
       "      <td>0.153400</td>\n",
       "      <td>0.132471</td>\n",
       "    </tr>\n",
       "    <tr>\n",
       "      <td>9750</td>\n",
       "      <td>0.391400</td>\n",
       "      <td>0.126396</td>\n",
       "    </tr>\n",
       "    <tr>\n",
       "      <td>10075</td>\n",
       "      <td>0.105400</td>\n",
       "      <td>0.127796</td>\n",
       "    </tr>\n",
       "    <tr>\n",
       "      <td>10400</td>\n",
       "      <td>0.087700</td>\n",
       "      <td>0.124080</td>\n",
       "    </tr>\n",
       "    <tr>\n",
       "      <td>10725</td>\n",
       "      <td>0.240600</td>\n",
       "      <td>0.125375</td>\n",
       "    </tr>\n",
       "    <tr>\n",
       "      <td>11050</td>\n",
       "      <td>0.142000</td>\n",
       "      <td>0.120386</td>\n",
       "    </tr>\n",
       "    <tr>\n",
       "      <td>11375</td>\n",
       "      <td>0.130600</td>\n",
       "      <td>0.122316</td>\n",
       "    </tr>\n",
       "    <tr>\n",
       "      <td>11700</td>\n",
       "      <td>0.072700</td>\n",
       "      <td>0.115932</td>\n",
       "    </tr>\n",
       "    <tr>\n",
       "      <td>12025</td>\n",
       "      <td>0.089800</td>\n",
       "      <td>0.119007</td>\n",
       "    </tr>\n",
       "    <tr>\n",
       "      <td>12350</td>\n",
       "      <td>0.079000</td>\n",
       "      <td>0.113774</td>\n",
       "    </tr>\n",
       "    <tr>\n",
       "      <td>12675</td>\n",
       "      <td>0.047100</td>\n",
       "      <td>0.114084</td>\n",
       "    </tr>\n",
       "    <tr>\n",
       "      <td>13000</td>\n",
       "      <td>0.105700</td>\n",
       "      <td>0.112062</td>\n",
       "    </tr>\n",
       "    <tr>\n",
       "      <td>13325</td>\n",
       "      <td>0.042200</td>\n",
       "      <td>0.111801</td>\n",
       "    </tr>\n",
       "    <tr>\n",
       "      <td>13650</td>\n",
       "      <td>0.117600</td>\n",
       "      <td>0.114018</td>\n",
       "    </tr>\n",
       "    <tr>\n",
       "      <td>13975</td>\n",
       "      <td>0.136500</td>\n",
       "      <td>0.111566</td>\n",
       "    </tr>\n",
       "    <tr>\n",
       "      <td>14300</td>\n",
       "      <td>0.157700</td>\n",
       "      <td>0.111026</td>\n",
       "    </tr>\n",
       "    <tr>\n",
       "      <td>14625</td>\n",
       "      <td>0.093800</td>\n",
       "      <td>0.109953</td>\n",
       "    </tr>\n",
       "    <tr>\n",
       "      <td>14950</td>\n",
       "      <td>0.085800</td>\n",
       "      <td>0.112207</td>\n",
       "    </tr>\n",
       "    <tr>\n",
       "      <td>15275</td>\n",
       "      <td>0.075100</td>\n",
       "      <td>0.107799</td>\n",
       "    </tr>\n",
       "    <tr>\n",
       "      <td>15600</td>\n",
       "      <td>0.127800</td>\n",
       "      <td>0.107161</td>\n",
       "    </tr>\n",
       "    <tr>\n",
       "      <td>15925</td>\n",
       "      <td>0.052800</td>\n",
       "      <td>0.106578</td>\n",
       "    </tr>\n",
       "    <tr>\n",
       "      <td>16250</td>\n",
       "      <td>0.231000</td>\n",
       "      <td>0.106224</td>\n",
       "    </tr>\n",
       "    <tr>\n",
       "      <td>16575</td>\n",
       "      <td>0.048100</td>\n",
       "      <td>0.105917</td>\n",
       "    </tr>\n",
       "    <tr>\n",
       "      <td>16900</td>\n",
       "      <td>0.113300</td>\n",
       "      <td>0.105279</td>\n",
       "    </tr>\n",
       "    <tr>\n",
       "      <td>17225</td>\n",
       "      <td>0.075000</td>\n",
       "      <td>0.105000</td>\n",
       "    </tr>\n",
       "    <tr>\n",
       "      <td>17550</td>\n",
       "      <td>0.043000</td>\n",
       "      <td>0.104646</td>\n",
       "    </tr>\n",
       "    <tr>\n",
       "      <td>17875</td>\n",
       "      <td>0.047600</td>\n",
       "      <td>0.104541</td>\n",
       "    </tr>\n",
       "    <tr>\n",
       "      <td>18200</td>\n",
       "      <td>0.060700</td>\n",
       "      <td>0.104521</td>\n",
       "    </tr>\n",
       "  </tbody>\n",
       "</table><p>"
      ],
      "text/plain": [
       "<IPython.core.display.HTML object>"
      ]
     },
     "metadata": {},
     "output_type": "display_data"
    },
    {
     "name": "stdout",
     "output_type": "stream",
     "text": [
      "Unsloth: Will smartly offload gradients to save VRAM!\n"
     ]
    }
   ],
   "source": [
    "trainer_stats = trainer.train()"
   ]
  },
  {
   "cell_type": "code",
   "execution_count": 41,
   "id": "22e836f1",
   "metadata": {},
   "outputs": [
    {
     "data": {
      "text/plain": [
       "['<|begin_of_text|><|start_header_id|>system<|end_header_id|>\\n\\nCutting Knowledge Date: December 2023\\nToday Date: 26 July 2024\\n\\n<|eot_id|><|start_header_id|>user<|end_header_id|>\\n\\nNothing is working as expected.<|eot_id|><|start_header_id|>assistant<|end_header_id|>\\n\\n-. --- -...... -. --. /..... /.-- ---.-. -.-.. -. --. /.-... /. -..-.--.. -.-. -. -...-.-.-<|end_of_text|>']"
      ]
     },
     "execution_count": 41,
     "metadata": {},
     "output_type": "execute_result"
    }
   ],
   "source": [
    "from unsloth.chat_templates import get_chat_template\n",
    "\n",
    "tokenizer = get_chat_template(\n",
    "    tokenizer,\n",
    "    chat_template = \"llama-3.2\",\n",
    "    \n",
    ")\n",
    "FastLanguageModel.for_inference(model) # Enable native 2x faster inference\n",
    "\n",
    "messages = [{\n",
    "    \"role\": \"user\",\n",
    "    \"content\":  \"Nothing is working as expected.\",\n",
    "}]\n",
    "\n",
    "inputs = tokenizer.apply_chat_template(\n",
    "    messages,\n",
    "    tokenize = True,\n",
    "    add_generation_prompt = True, # Must add for generation\n",
    "    return_tensors = \"pt\",\n",
    ").to(\"cuda\")\n",
    "\n",
    "\n",
    "outputs = model.generate(input_ids = inputs, \n",
    "                         max_new_tokens = 200,\n",
    "                           use_cache = False,\n",
    "                         temperature = 0.01)\n",
    "tokenizer.batch_decode(outputs)"
   ]
  },
  {
   "cell_type": "code",
   "execution_count": 19,
   "id": "8b2c3719",
   "metadata": {},
   "outputs": [],
   "source": [
    "# from unsloth.chat_templates import get_chat_template\n",
    "# tokenizer = get_chat_template(\n",
    "#     tokenizer,\n",
    "#     chat_template = \"llama-3.2\",\n",
    "# )\n",
    "# messages = [{\n",
    "#     \"role\": \"user\",\n",
    "#     \"content\": [{\n",
    "#         \"type\" : \"text\",\n",
    "#         \"text\" : \"The cat sat on the>>\",\n",
    "#     }]\n",
    "# }]\n",
    "# text = tokenizer.apply_chat_template(\n",
    "#     messages,\n",
    "#     tokenize= False,\n",
    "#     add_generation_prompt = True, # Must add for generation\n",
    "# )\n",
    "\n",
    "\n",
    "# outputs = model.generate(\n",
    "#     **tokenizer([text], return_tensors = \"pt\").to(\"cuda\"),\n",
    "#     max_new_tokens = 120, # Increase for longer outputs!\n",
    "#     # Recommended Gemma-3 settings!\n",
    "#     temperature = 0.01, top_p = 0.95, top_k = 64,\n",
    "# )\n",
    "\n",
    "# output  = tokenizer.batch_decode(outputs)[0]\n",
    "# print(output)\n",
    "\n",
    "# from decode import decode_from_morse\n",
    "\n",
    "# import re\n",
    "\n",
    "# match = re.search(r'<start_of_turn>model\\n(.*?)<end_of_turn>', output, re.DOTALL)\n",
    "# if match:\n",
    "#     result = match.group(1)\n",
    "#     #print(result)\n",
    "#     print(decode_from_morse(result))\n",
    "# else:\n",
    "#     print(\"No match found.\")\n",
    "    "
   ]
  },
  {
   "cell_type": "code",
   "execution_count": 20,
   "id": "161515cf",
   "metadata": {},
   "outputs": [],
   "source": [
    "#model.save_pretrained(\"gemma-3-1b-sos\")  # Local saving\n",
    "#tokenizer.save_pretrained(\"gemma-3-1b-sos\")"
   ]
  },
  {
   "cell_type": "code",
   "execution_count": 21,
   "id": "57cef267",
   "metadata": {},
   "outputs": [],
   "source": [
    "if False: # Change to True to save finetune!\n",
    "    #model.save_pretrained_merged(\"gemma-3-finetune2\", tokenizer, save_method = \"merged_4bit\")\n",
    "    #odel.save_pretrained_merged(\"merged_model\", tokenizer, save_method = \"merged_16bit\",)\n",
    "    #odel.save_pretrained_gguf(\"dir\", tokenizer, quantization_method = \"Q8_0\")\n",
    "    model.push_to_hub_gguf(\"philipfourie/gemma-3-finetune\",  quantization_type =\"q8_0\")"
   ]
  },
  {
   "cell_type": "code",
   "execution_count": 22,
   "id": "6b2ecc0d",
   "metadata": {},
   "outputs": [],
   "source": [
    "if False: # Change to True to upload finetune\n",
    "    model.push_to_hub_merged(\n",
    "        \"philipfourie/gemma-3-1b-morse-code\", tokenizer,\n",
    "    )"
   ]
  },
  {
   "cell_type": "code",
   "execution_count": 23,
   "id": "83f178ab",
   "metadata": {},
   "outputs": [],
   "source": [
    "# model.save_pretrained_gguf(\n",
    "#     \"gemma-3-1b-morse-code\",\n",
    "#     quantization_type = \"Q8_0\", # For now only Q8_0, BF16, F16 supported\n",
    "# )"
   ]
  },
  {
   "cell_type": "code",
   "execution_count": 24,
   "id": "641a312c",
   "metadata": {},
   "outputs": [],
   "source": [
    "# if True: # Change to True to upload GGUF\n",
    "#     model.push_to_hub_gguf(\n",
    "#         #\"gemma-3-1b-morse-code\",\n",
    "#         quantization_type = \"Q8_0\", # Only Q8_0, BF16, F16 supported\n",
    "#         repo_id = \"philipfourie/gemma-3-1b-morse-code\"\n",
    "#     )"
   ]
  },
  {
   "cell_type": "code",
   "execution_count": 25,
   "id": "640fada1",
   "metadata": {},
   "outputs": [],
   "source": [
    "#model.save_pretrained(\"lora_model\")  # Local saving\n",
    "#tokenizer.save_pretrained(\"lora_model\")"
   ]
  },
  {
   "cell_type": "code",
   "execution_count": 26,
   "id": "88f96707",
   "metadata": {},
   "outputs": [],
   "source": [
    "if False: model.save_pretrained_merged(\"sos-llama\", tokenizer, save_method = \"merged_16bit\",)\n",
    "if False: model.push_to_hub_merged(\"philipfourie/sos-llama\", tokenizer, save_method = \"merged_16bit\")"
   ]
  },
  {
   "cell_type": "code",
   "execution_count": 27,
   "id": "02b9b85a",
   "metadata": {},
   "outputs": [],
   "source": [
    "if False: model.save_pretrained_gguf(\"sos-llama-gguf\", tokenizer, quantization_method = \"q4_k_m\")\n",
    "if False: model.push_to_hub_gguf(\"philipfourie/sos-llama-gguf\", tokenizer, quantization_method = \"q4_k_m\")"
   ]
  }
 ],
 "metadata": {
  "kernelspec": {
   "display_name": ".venv",
   "language": "python",
   "name": "python3"
  },
  "language_info": {
   "codemirror_mode": {
    "name": "ipython",
    "version": 3
   },
   "file_extension": ".py",
   "mimetype": "text/x-python",
   "name": "python",
   "nbconvert_exporter": "python",
   "pygments_lexer": "ipython3",
   "version": "3.12.10"
  }
 },
 "nbformat": 4,
 "nbformat_minor": 5
}
